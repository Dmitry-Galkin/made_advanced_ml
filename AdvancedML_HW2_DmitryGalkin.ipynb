{
 "cells": [
  {
   "cell_type": "code",
   "execution_count": 1,
   "metadata": {},
   "outputs": [],
   "source": [
    "import pandas as pd\n",
    "import numpy as np\n",
    "import pickle\n",
    "from scipy import stats\n",
    "from scipy.sparse import lil_matrix\n",
    "from sklearn.linear_model import LogisticRegression, LinearRegression, Ridge\n",
    "from sklearn.metrics import roc_auc_score\n",
    "from tqdm import tqdm\n",
    "\n",
    "import matplotlib.pyplot as plt"
   ]
  },
  {
   "cell_type": "code",
   "execution_count": null,
   "metadata": {},
   "outputs": [],
   "source": []
  },
  {
   "cell_type": "code",
   "execution_count": null,
   "metadata": {},
   "outputs": [],
   "source": []
  },
  {
   "cell_type": "markdown",
   "metadata": {},
   "source": [
    "## Задание 1\n",
    "\n",
    "Прочитайте и проанализируйте данные, выберите турниры, в которых есть данные о составах команд и повопросных результатах (поле mask в results.pkl). Для унификации предлагаю:\n",
    "* взять в тренировочный набор турниры с dateStart из 2019 года; \n",
    "* в тестовый — турниры с dateStart из 2020 года."
   ]
  },
  {
   "cell_type": "code",
   "execution_count": 2,
   "metadata": {},
   "outputs": [],
   "source": [
    "# загрузим все данные\n",
    "results = pd.read_pickle(\"results.pkl\")\n",
    "tournaments = pd.read_pickle(\"tournaments.pkl\")\n",
    "players = pd.read_pickle(\"players.pkl\")"
   ]
  },
  {
   "cell_type": "code",
   "execution_count": 3,
   "metadata": {},
   "outputs": [],
   "source": [
    "TRAIN_YEAR = 2019\n",
    "TEST_YEAR = 2020\n",
    "\n",
    "\n",
    "# id игр, которые подходят по дате для формирования тренировочного и тестового наборов\n",
    "ids_train = [\n",
    "    idx \n",
    "    for idx in tournaments.keys() \n",
    "    if pd.Timestamp(tournaments[idx]['dateStart']).date().year == TRAIN_YEAR\n",
    "]\n",
    "\n",
    "ids_test = [\n",
    "    idx \n",
    "    for idx in tournaments.keys() \n",
    "    if pd.Timestamp(tournaments[idx]['dateStart']).date().year == TEST_YEAR\n",
    "]"
   ]
  },
  {
   "cell_type": "code",
   "execution_count": 4,
   "metadata": {},
   "outputs": [],
   "source": [
    "def get_data(ids):\n",
    "    \"\"\"Формирование набора тренировочных/тестовых данных по списку id турниров.\n",
    "    \n",
    "    Для каждой команды сохраним: \n",
    "        * id команды\n",
    "        * mask - результаты ответов\n",
    "        * кол-во правильных ответов команды\n",
    "        * id игроков\n",
    "        * рейтинги игроков \n",
    "          (rating и usedRating, в чем отличие пока не знаю, \n",
    "          сохраним оба - авось пригодятся)\n",
    "          \n",
    "    А также для каждой игры сохраним id и тип\n",
    "    \"\"\"\n",
    "    \n",
    "    data = []\n",
    "\n",
    "    for id_ in ids:\n",
    "\n",
    "        # игра c айдишником id_\n",
    "        tournament = results[id_]\n",
    "\n",
    "        tournament_description = []\n",
    "        mask_len = []\n",
    "        \n",
    "        # пробежимся по всем командам, участвовавшим в этой игре\n",
    "        for team in tournament:\n",
    "\n",
    "            # если нет результатов для команды, то пропустим\n",
    "            if \"mask\" not in team or team[\"mask\"] is None:\n",
    "                continue\n",
    "            # если в результатах стоит X или ?, то тоже пропустим\n",
    "            if \"?\" in team[\"mask\"] or \"X\" in team[\"mask\"]:\n",
    "                continue\n",
    "\n",
    "            # id команды\n",
    "            team_id = team[\"team\"][\"id\"]\n",
    "            # результат команды\n",
    "            team_mask = team[\"mask\"]\n",
    "            # команда\n",
    "            team_members = team[\"teamMembers\"]\n",
    "            if len(team_members) == 0:  # бывают случаи, когда нет инфы по команде\n",
    "                continue\n",
    "            # кол-во правильных ответов\n",
    "            questTotal = team[\"questionsTotal\"]\n",
    "            # id и рейтинги игроков\n",
    "            team_players_id = [pl[\"player\"][\"id\"] for pl in team_members]\n",
    "            team_players_rating = [pl[\"rating\"] for pl in team_members]\n",
    "            team_players_usedRating = [pl[\"usedRating\"] for pl in team_members]\n",
    "                \n",
    "            team_description = {\n",
    "                \"id\": team_id, \n",
    "                \"mask\": team_mask, \n",
    "                \"right_answers\": questTotal,\n",
    "                \"members\": team_players_id, \n",
    "                \"rating\": team_players_rating, \n",
    "                \"used_rating\": team_players_usedRating\n",
    "            }\n",
    "            \n",
    "            mask_len.append(len(team_mask))  # кол-во вопросов\n",
    "\n",
    "            tournament_description.append(team_description)\n",
    "        \n",
    "        if len(tournament_description) == 0:\n",
    "            continue\n",
    "            \n",
    "        # если оказалось, что в одной игре у разных команд разное число вопросов\n",
    "        if len(set(mask_len)) > 1:\n",
    "            continue\n",
    "\n",
    "        data.append(\n",
    "            {\"id\": id_,  # id турнира\n",
    "             \"tournament_type\": tournaments[id_][\"type\"][\"id\"],  # тип турнира\n",
    "             \"teams\": tournament_description}\n",
    "        )\n",
    "        \n",
    "    return data"
   ]
  },
  {
   "cell_type": "code",
   "execution_count": 5,
   "metadata": {},
   "outputs": [
    {
     "data": {
      "text/plain": [
       "(604, 156)"
      ]
     },
     "execution_count": 5,
     "metadata": {},
     "output_type": "execute_result"
    }
   ],
   "source": [
    "train = get_data(ids_train)\n",
    "test = get_data(ids_test)\n",
    "\n",
    "len(train), len(test)"
   ]
  },
  {
   "cell_type": "code",
   "execution_count": 6,
   "metadata": {},
   "outputs": [],
   "source": [
    "# сохраним сразу, а то долго загружаются исходные файлы\n",
    "with open('train.pickle', 'wb') as f:\n",
    "    pickle.dump(train, f)\n",
    "    \n",
    "with open('test.pickle', 'wb') as f:\n",
    "    pickle.dump(test, f)"
   ]
  },
  {
   "cell_type": "code",
   "execution_count": null,
   "metadata": {},
   "outputs": [],
   "source": []
  },
  {
   "cell_type": "markdown",
   "metadata": {},
   "source": [
    "Далее посмотрим на следующие статистики:\n",
    "* количество вопросов во всех играх\n",
    "* доля правильных ответов по всем командам и по всем играм\n",
    "* а также средняя доля правильных ответов при увеличении среднего рейтинга команды"
   ]
  },
  {
   "cell_type": "code",
   "execution_count": 7,
   "metadata": {},
   "outputs": [],
   "source": [
    "def plot_stat(X1, X2, title1=\"\", title2=\"\", bins=50, stat=\"mode\"):\n",
    "    \"\"\"Отрисовка статистик.\"\"\"\n",
    "    \n",
    "    plt.figure(figsize=(16, 4))\n",
    "    plt.subplot(121)\n",
    "    plt.hist(X1, bins=bins)\n",
    "    X1_min = round(min(X1), 2)\n",
    "    X1_max = round(max(X1), 2)\n",
    "    if stat == \"mode\":\n",
    "        X1_stat = round(stats.mode(X1)[0][0], 2)\n",
    "        title = title1 + f\"\\nминимум: {X1_min}, максимум: {X1_max}, мода: {X1_stat}\"\n",
    "    else:\n",
    "        X1_stat = round(np.median(X1), 2)\n",
    "        title = title1 + f\"\\nминимум: {X1_min}, максимум: {X1_max}, медиана: {X1_stat}\"  \n",
    "    plt.title(title)\n",
    "    plt.grid()\n",
    "    \n",
    "    plt.subplot(122)\n",
    "    plt.hist(X2, bins=bins)\n",
    "    X2_min = round(min(X2), 2)\n",
    "    X2_max = round(max(X2), 2)\n",
    "    if stat == \"mode\":\n",
    "        X2_stat = round(stats.mode(X2)[0][0], 2)\n",
    "        title = title2 + f\"\\nминимум: {X2_min}, максимум: {X2_max}, мода: {X2_stat}\"\n",
    "    else:\n",
    "        X2_stat = round(np.median(X2), 2)\n",
    "        title = title2 + f\"\\nминимум: {X2_min}, максимум: {X2_max}, медиана: {X2_stat}\"\n",
    "    plt.title(title)\n",
    "    plt.grid();"
   ]
  },
  {
   "cell_type": "code",
   "execution_count": null,
   "metadata": {},
   "outputs": [],
   "source": []
  },
  {
   "cell_type": "markdown",
   "metadata": {},
   "source": [
    "**Количество вопросов**"
   ]
  },
  {
   "cell_type": "code",
   "execution_count": 8,
   "metadata": {},
   "outputs": [
    {
     "data": {
      "image/png": "[encoded data removed]",
      "text/plain": [
       "<Figure size 1152x288 with 2 Axes>"
      ]
     },
     "metadata": {
      "needs_background": "light"
     },
     "output_type": "display_data"
    }
   ],
   "source": [
    "quest_num_train = [len(t[\"teams\"][0][\"mask\"]) for t in train]\n",
    "quest_num_test = [len(t[\"teams\"][0][\"mask\"]) for t in test]\n",
    "\n",
    "\n",
    "plot_stat(\n",
    "    X1=quest_num_train, X2=quest_num_test, \n",
    "    title1=\"TRAIN\\nРаспределение количества вопросов по играм\", \n",
    "    title2=\"TEST\\nРаспределение количества вопросов по играм\", \n",
    "    bins=50, stat=\"mode\"\n",
    ")"
   ]
  },
  {
   "cell_type": "code",
   "execution_count": null,
   "metadata": {},
   "outputs": [],
   "source": []
  },
  {
   "cell_type": "markdown",
   "metadata": {},
   "source": [
    "**Доля правильных ответов**"
   ]
  },
  {
   "cell_type": "code",
   "execution_count": 9,
   "metadata": {},
   "outputs": [
    {
     "data": {
      "image/png": "[encoded data removed]",
      "text/plain": [
       "<Figure size 1152x288 with 2 Axes>"
      ]
     },
     "metadata": {
      "needs_background": "light"
     },
     "output_type": "display_data"
    }
   ],
   "source": [
    "right_ans_rate_train = np.array([\n",
    "    team[\"right_answers\"] / len(team[\"mask\"])\n",
    "    for t in train \n",
    "    for team in t[\"teams\"]\n",
    "])\n",
    "right_ans_rate_test = np.array([\n",
    "    team[\"right_answers\"] / len(team[\"mask\"])\n",
    "    for t in test \n",
    "    for team in t[\"teams\"]\n",
    "])\n",
    "\n",
    "plot_stat(\n",
    "    X1=right_ans_rate_train, X2=right_ans_rate_test, \n",
    "    title1=\"TRAIN\\nДоля правильных ответов\", \n",
    "    title2=\"TEST\\nДоля правильных ответов\", \n",
    "    bins=40, stat=\"median\"\n",
    ")"
   ]
  },
  {
   "cell_type": "code",
   "execution_count": null,
   "metadata": {},
   "outputs": [],
   "source": []
  },
  {
   "cell_type": "markdown",
   "metadata": {},
   "source": [
    "**Зависимость доли правильных ответов команды от среднего рейтинга игроков в этой команде**"
   ]
  },
  {
   "cell_type": "code",
   "execution_count": 10,
   "metadata": {},
   "outputs": [],
   "source": [
    "rating_train = np.array([\n",
    "    np.mean(team[\"rating\"])\n",
    "    for t in train \n",
    "    for team in t[\"teams\"]\n",
    "])\n",
    "rating_test = np.array([\n",
    "    np.mean(team[\"rating\"]) \n",
    "    for t in test \n",
    "    for team in t[\"teams\"]\n",
    "])\n",
    "\n",
    "rating_train[np.where(pd.isnull(rating_train))] = 0\n",
    "rating_test[np.where(pd.isnull(rating_test))] = 0"
   ]
  },
  {
   "cell_type": "code",
   "execution_count": 11,
   "metadata": {},
   "outputs": [
    {
     "data": {
      "image/png": "[encoded data removed]",
      "text/plain": [
       "<Figure size 1152x288 with 2 Axes>"
      ]
     },
     "metadata": {
      "needs_background": "light"
     },
     "output_type": "display_data"
    },
    {
     "data": {
      "image/png": "[encoded data removed]",
      "text/plain": [
       "<Figure size 1152x288 with 2 Axes>"
      ]
     },
     "metadata": {
      "needs_background": "light"
     },
     "output_type": "display_data"
    },
    {
     "data": {
      "image/png": "[encoded data removed]",
      "text/plain": [
       "<Figure size 1152x288 with 2 Axes>"
      ]
     },
     "metadata": {
      "needs_background": "light"
     },
     "output_type": "display_data"
    }
   ],
   "source": [
    "for q in [0.5, 0.75, 0.9]:\n",
    "    plot_stat(\n",
    "        X1=right_ans_rate_train[rating_train > np.quantile(rating_train, q)], \n",
    "        X2=right_ans_rate_test[rating_test > np.quantile(rating_test, q)],\n",
    "        title1=f\"TRAIN\\nДоля правильных ответов\\nРейтинг команды > {round(q*100)}-го перцентиля\",\n",
    "        title2=f\"TEST\\nДоля правильных ответов\\nРейтинг команды > {round(q*100)}-го перцентиля\",\n",
    "        bins=40, stat=\"median\"\n",
    "    )"
   ]
  },
  {
   "cell_type": "code",
   "execution_count": null,
   "metadata": {},
   "outputs": [],
   "source": []
  },
  {
   "cell_type": "markdown",
   "metadata": {},
   "source": [
    "**Выводы**\n",
    "* Большинство игр в обучающем и тестовом наборах данных состоят из 36 вопросов\n",
    "* При увеличении среднего рейтинга игроков команды, медиана распределения доли правильных ответов увеличивается."
   ]
  },
  {
   "cell_type": "code",
   "execution_count": null,
   "metadata": {},
   "outputs": [],
   "source": []
  },
  {
   "cell_type": "code",
   "execution_count": null,
   "metadata": {},
   "outputs": [],
   "source": []
  },
  {
   "cell_type": "markdown",
   "metadata": {},
   "source": [
    "## Задание 2\n",
    "\n",
    "Постройте baseline-модель на основе линейной или логистической регрессии, которая будет обучать рейтинг-лист игроков. Замечания и подсказки:\n",
    "* повопросные результаты — это фактически результаты броска монетки, и их предсказание скорее всего имеет отношение к бинарной классификации;\n",
    "* в разных турнирах вопросы совсем разного уровня сложности, поэтому модель должна это учитывать; скорее всего, модель должна будет явно обучать не только силу каждого игрока, но и сложность каждого вопроса;\n",
    "* для baseline-модели можно забыть о командах и считать, что повопросные результаты команды просто относятся к каждому из её игроков."
   ]
  },
  {
   "cell_type": "code",
   "execution_count": null,
   "metadata": {},
   "outputs": [],
   "source": []
  },
  {
   "cell_type": "markdown",
   "metadata": {},
   "source": [
    "**План действий**\n",
    "\n",
    "> * Построим модель логистической регрессии. Соответствующие коэффициенты обученной модели и будут являться условной силой игроков или условной сложностью вопросов.\n",
    "* В качестве основы признаков возьмем one-hot вектор для игроков\n",
    "* Дополнительно рассмотрим one-hot вектор для вопросов, one-hot вектор для типа турнира и рейтинг игроков\n",
    "* В качестве оцениваемой метрики на тесте будем использовать roc-auc. Для того, чтобы понять, уловила ли наша модель какую-то закономерность.\n",
    "* Для простоты построения модели оставим игры с 36 вопросами\n",
    "\n",
    "Построим 4 модельки и по качеству на тесте (и по результатам п.3) выбирем лучшую в качестве *baseline*. Может и некорректно так делать, но заодно проверим гипотезы в плане использования признаков."
   ]
  },
  {
   "cell_type": "code",
   "execution_count": null,
   "metadata": {},
   "outputs": [],
   "source": []
  },
  {
   "cell_type": "code",
   "execution_count": 6,
   "metadata": {},
   "outputs": [
    {
     "data": {
      "text/plain": [
       "(352, 100)"
      ]
     },
     "execution_count": 6,
     "metadata": {},
     "output_type": "execute_result"
    }
   ],
   "source": [
    "# оставим игры с 36 вопросами\n",
    "\n",
    "train36 = []\n",
    "for t in train:\n",
    "    if len(t[\"teams\"][0][\"mask\"]) == 36:\n",
    "        train36.append(t)\n",
    "        \n",
    "test36 = []\n",
    "for t in test:\n",
    "    if len(t[\"teams\"][0][\"mask\"]) == 36:\n",
    "        test36.append(t)\n",
    "        \n",
    "len(train36), len(test36)"
   ]
  },
  {
   "cell_type": "code",
   "execution_count": 7,
   "metadata": {},
   "outputs": [
    {
     "name": "stdout",
     "output_type": "stream",
     "text": [
      "Обучающая выборка\n",
      "- Суммарное количество игроков во всех играх: 268499\n",
      "- Количество уникальных игроков: 49218\n",
      "- Количество уникальных типов игр: 4\n"
     ]
    }
   ],
   "source": [
    "all_players_train = []\n",
    "all_players_test = []\n",
    "\n",
    "for t in train36:\n",
    "    for team in t[\"teams\"]:\n",
    "        all_players_train.extend(team[\"members\"])\n",
    "        \n",
    "unique_players_train = sorted(list(set(all_players_train)))\n",
    "unique_tournament_type = set([t[\"tournament_type\"] for t in train36])\n",
    "\n",
    "\n",
    "print(\"Обучающая выборка\")\n",
    "print(f\"- Суммарное количество игроков во всех играх: {len(all_players_train)}\")\n",
    "print(f\"- Количество уникальных игроков: {len(unique_players_train)}\")\n",
    "print(f\"- Количество уникальных типов игр: {len(unique_tournament_type)}\")"
   ]
  },
  {
   "cell_type": "code",
   "execution_count": 8,
   "metadata": {},
   "outputs": [
    {
     "name": "stdout",
     "output_type": "stream",
     "text": [
      "Тестовая выборка. Сводка по игрокам, которые есть и в обучающей выборке.\n",
      "- Суммарное количество игроков во всех играх: 68046\n",
      "- Количество уникальных игроков: 19977\n"
     ]
    }
   ],
   "source": [
    "# Посчитаем количество игроков в тестовой выборке таких, что они есть и в обучающей. \n",
    "# Т.к. если до этого модель не видела игрока, вряд ли она что-то хорошее предскажет\n",
    "\n",
    "all_players_test = []\n",
    "\n",
    "for t in test36:\n",
    "    for team in t[\"teams\"]:\n",
    "        all_players_test.extend([member for member in team[\"members\"] if member in unique_players_train])\n",
    "        \n",
    "unique_players_test = sorted(list(set(all_players_test)))\n",
    "\n",
    "print(\"Тестовая выборка. Сводка по игрокам, которые есть и в обучающей выборке.\")\n",
    "print(f\"- Суммарное количество игроков во всех играх: {len(all_players_test)}\")\n",
    "print(f\"- Количество уникальных игроков: {len(unique_players_test)}\")"
   ]
  },
  {
   "cell_type": "code",
   "execution_count": 9,
   "metadata": {},
   "outputs": [],
   "source": [
    "# id игроков идут не по порядку, поэтому преобразуем так, \n",
    "# чтобы номера их шли от нуля с шагом 1 и запомним это соответствие\n",
    "\n",
    "id_player_to_order = {id_: i for i, id_ in enumerate(unique_players_train)}\n",
    "order_to_player_id = {i: id_ for i, id_ in enumerate(unique_players_train)}\n",
    "\n",
    "# аналогично для типов турниров\n",
    "tournament_type_to_order = {id_: i for i, id_ in enumerate(unique_tournament_type)}\n",
    "order_to_tournament_type = {i: id_ for i, id_ in enumerate(unique_tournament_type)}"
   ]
  },
  {
   "cell_type": "code",
   "execution_count": 7,
   "metadata": {},
   "outputs": [],
   "source": [
    "def split_data(train_data, test_data, feat_type=0):\n",
    "    \"\"\"Выдача X_train, y_train, X_test, y_test.\n",
    "        \n",
    "        feat_type=0: используем только one-hot вектор игроков\n",
    "        feat_type=1: используем one-hot вектор игроков + one-hot вектор типа игры\n",
    "        feat_type=2: используем one-hot вектор игроков + one-hot вектор типа игры + рейтинг игрока\n",
    "        feat_type=3: используем one-hot вектор игроков + one-hot вопросов\n",
    "    \"\"\"\n",
    "    \n",
    "    step = 36\n",
    "    \n",
    "    # кол-во признаков\n",
    "    if feat_type == 0:\n",
    "        col_ = len(unique_players_train)\n",
    "    elif feat_type == 1:\n",
    "        col_ = len(unique_players_train) + len(unique_tournament_type)\n",
    "    elif feat_type == 2:\n",
    "        col_ = len(unique_players_train) + len(unique_tournament_type) + 1\n",
    "    elif feat_type == 3:\n",
    "        col_ = len(unique_players_train) + len(train36) * step\n",
    "    else:\n",
    "        raise NotImplementedError\n",
    "    \n",
    "    \n",
    "    ##########################################\n",
    "    ### train\n",
    "    ##########################################\n",
    "    \n",
    "    # кол-во объектов - суммарное количество игроков во всех играх\n",
    "    row_ = 36 * len(all_players_train)\n",
    "    \n",
    "    if feat_type == 2:\n",
    "        X_train = lil_matrix((row_, col_), dtype=np.float)\n",
    "    else:\n",
    "        X_train = lil_matrix((row_, col_), dtype=np.int8)\n",
    "    y_train = np.zeros(row_)\n",
    "\n",
    "    i, j = 0, len(unique_players_train)\n",
    "    rating = []\n",
    "\n",
    "    for t in tqdm(train_data):\n",
    "        \n",
    "        tournament = tournament_type_to_order[t[\"tournament_type\"]]\n",
    "    \n",
    "        for team in t[\"teams\"]:\n",
    "            \n",
    "            # список ответов\n",
    "            mask = list(map(int, list(team[\"mask\"])))\n",
    "            # список порядковых номеров игроков\n",
    "            members = [id_player_to_order[member] for member in team[\"members\"]]\n",
    "            \n",
    "            for k, member in enumerate(members):\n",
    "                X_train[i:i+step, member] = 1\n",
    "                y_train[i:i+step] = mask\n",
    "                \n",
    "                if feat_type == 1:\n",
    "                    X_train[i:i+step, j + tournament] = 1\n",
    "                    \n",
    "                if feat_type == 2:\n",
    "                    rating.extend([team[\"rating\"][k], ] * step)\n",
    "                    \n",
    "                if feat_type == 3:\n",
    "                    X_train[i:i+step, np.arange(j, j + step)] = 1\n",
    "                \n",
    "                i += step\n",
    "                \n",
    "        if feat_type == 3:\n",
    "            j += step\n",
    "    \n",
    "    # нормировка рейтинга\n",
    "    if feat_type == 2:\n",
    "        rating_mean = np.median(rating)\n",
    "        rating_std = np.std(rating)\n",
    "        rating_norm = (np.array(rating) - rating_mean) / rating_std\n",
    "        X_train[:, -1] = rating_norm\n",
    "        \n",
    "    \n",
    "    \n",
    "    \n",
    "    ##########################################\n",
    "    # test\n",
    "    ##########################################\n",
    "    \n",
    "    # кол-во объектов - суммарное количество игроков во всех играх\n",
    "    row_ = 36 * len(all_players_test)\n",
    "    \n",
    "    if feat_type == 2:\n",
    "        X_test = lil_matrix((row_, col_), dtype=np.float)\n",
    "    else:\n",
    "        X_test = lil_matrix((row_, col_), dtype=np.int8)\n",
    "    y_test = np.zeros(row_)\n",
    "    \n",
    "    i, j = 0, len(unique_players_test)\n",
    "    rating = []\n",
    "\n",
    "    for t in tqdm(test_data):\n",
    "        \n",
    "        tournament = tournament_type_to_order[t[\"tournament_type\"]]\n",
    "    \n",
    "        for team in t[\"teams\"]:\n",
    "            \n",
    "            # список ответов\n",
    "            mask = list(map(int, list(team[\"mask\"])))\n",
    "            # список порядковых номеров игроков\n",
    "            members = [id_player_to_order[member] for member in team[\"members\"] if member in unique_players_test]\n",
    "            \n",
    "            for k, member in enumerate(members):\n",
    "                X_test[i:i+step, member] = 1\n",
    "                y_test[i:i+step] = mask\n",
    "                \n",
    "                if feat_type == 1:\n",
    "                    X_test[i:i+step, j + tournament] = 1\n",
    "                    \n",
    "                if feat_type == 2:\n",
    "                    rating.extend([team[\"rating\"][k], ] * step)\n",
    "                    \n",
    "                if feat_type == 3:\n",
    "                    # вопросы другие, значит здесь будут нули\n",
    "                    pass\n",
    "                \n",
    "                i += step\n",
    "    \n",
    "    # нормировка рейтинга\n",
    "    if feat_type == 2:\n",
    "        rating_norm = (np.array(rating) - rating_mean) / rating_std\n",
    "        X_test[:, -1] = rating_norm\n",
    "        \n",
    "    return X_train, y_train, X_test, y_test"
   ]
  },
  {
   "cell_type": "code",
   "execution_count": null,
   "metadata": {},
   "outputs": [],
   "source": []
  },
  {
   "cell_type": "markdown",
   "metadata": {},
   "source": [
    "**Модель 1.**\n",
    "\n",
    "В качестве признаков one-hot вектор игроков"
   ]
  },
  {
   "cell_type": "code",
   "execution_count": 54,
   "metadata": {},
   "outputs": [
    {
     "name": "stderr",
     "output_type": "stream",
     "text": [
      "100%|██████████| 352/352 [01:01<00:00,  5.73it/s]\n",
      "100%|██████████| 100/100 [00:40<00:00,  2.49it/s]\n"
     ]
    }
   ],
   "source": [
    "X_train, y_train, X_test, y_test = split_data(train36, test36, feat_type=0)"
   ]
  },
  {
   "cell_type": "code",
   "execution_count": 55,
   "metadata": {},
   "outputs": [
    {
     "data": {
      "text/plain": [
       "LogisticRegression(C=1.0, class_weight=None, dual=False, fit_intercept=True,\n",
       "                   intercept_scaling=1, l1_ratio=None, max_iter=1000,\n",
       "                   multi_class='auto', n_jobs=None, penalty='l2',\n",
       "                   random_state=None, solver='lbfgs', tol=0.0001, verbose=0,\n",
       "                   warm_start=False)"
      ]
     },
     "execution_count": 55,
     "metadata": {},
     "output_type": "execute_result"
    }
   ],
   "source": [
    "model1 = LogisticRegression(max_iter=1000)\n",
    "model1.fit(X_train, y_train)"
   ]
  },
  {
   "cell_type": "code",
   "execution_count": 56,
   "metadata": {},
   "outputs": [
    {
     "name": "stdout",
     "output_type": "stream",
     "text": [
      "roc_auc: 0.62\n"
     ]
    }
   ],
   "source": [
    "y_pred = model1.predict_proba(X_test)[:, 1]\n",
    "score1 = roc_auc_score(y_test, y_pred)\n",
    "\n",
    "print(f\"roc_auc: {round(score1, 2)}\")"
   ]
  },
  {
   "cell_type": "code",
   "execution_count": null,
   "metadata": {},
   "outputs": [],
   "source": []
  },
  {
   "cell_type": "markdown",
   "metadata": {},
   "source": [
    "**Модель 2.**\n",
    "\n",
    "В качестве признаков one-hot вектор игроков + one-hot вектор типа турнира"
   ]
  },
  {
   "cell_type": "code",
   "execution_count": 58,
   "metadata": {},
   "outputs": [
    {
     "name": "stderr",
     "output_type": "stream",
     "text": [
      "100%|██████████| 352/352 [01:56<00:00,  3.02it/s]\n",
      "100%|██████████| 100/100 [00:53<00:00,  1.87it/s]\n"
     ]
    }
   ],
   "source": [
    "X_train, y_train, X_test, y_test = split_data(train36, test36, feat_type=1)"
   ]
  },
  {
   "cell_type": "code",
   "execution_count": 63,
   "metadata": {},
   "outputs": [
    {
     "data": {
      "text/plain": [
       "LogisticRegression(C=1.0, class_weight=None, dual=False, fit_intercept=True,\n",
       "                   intercept_scaling=1, l1_ratio=None, max_iter=1000,\n",
       "                   multi_class='auto', n_jobs=None, penalty='l2',\n",
       "                   random_state=None, solver='lbfgs', tol=0.0001, verbose=0,\n",
       "                   warm_start=False)"
      ]
     },
     "execution_count": 63,
     "metadata": {},
     "output_type": "execute_result"
    }
   ],
   "source": [
    "model2 = LogisticRegression(max_iter=1000)\n",
    "model2.fit(X_train, y_train)"
   ]
  },
  {
   "cell_type": "code",
   "execution_count": 64,
   "metadata": {
    "scrolled": true
   },
   "outputs": [
    {
     "name": "stdout",
     "output_type": "stream",
     "text": [
      "roc_auc: 0.58\n"
     ]
    }
   ],
   "source": [
    "y_pred = model2.predict_proba(X_test)[:, 1]\n",
    "score2 = roc_auc_score(y_test, y_pred)\n",
    "\n",
    "print(f\"roc_auc: {round(score2, 2)}\")"
   ]
  },
  {
   "cell_type": "code",
   "execution_count": null,
   "metadata": {},
   "outputs": [],
   "source": []
  },
  {
   "cell_type": "markdown",
   "metadata": {},
   "source": [
    "**Модель 3.**\n",
    "\n",
    "В качестве признаков one-hot вектор игроков + one-hot вектор типа турнира + рейтинг игроков"
   ]
  },
  {
   "cell_type": "code",
   "execution_count": 65,
   "metadata": {},
   "outputs": [
    {
     "name": "stderr",
     "output_type": "stream",
     "text": [
      "100%|██████████| 352/352 [01:01<00:00,  5.71it/s]\n",
      "100%|██████████| 100/100 [00:39<00:00,  2.53it/s]\n"
     ]
    }
   ],
   "source": [
    "X_train, y_train, X_test, y_test = split_data(train36, test36, feat_type=2)"
   ]
  },
  {
   "cell_type": "code",
   "execution_count": 66,
   "metadata": {},
   "outputs": [
    {
     "data": {
      "text/plain": [
       "LogisticRegression(C=1.0, class_weight=None, dual=False, fit_intercept=True,\n",
       "                   intercept_scaling=1, l1_ratio=None, max_iter=1000,\n",
       "                   multi_class='auto', n_jobs=None, penalty='l2',\n",
       "                   random_state=None, solver='lbfgs', tol=0.0001, verbose=0,\n",
       "                   warm_start=False)"
      ]
     },
     "execution_count": 66,
     "metadata": {},
     "output_type": "execute_result"
    }
   ],
   "source": [
    "model3 = LogisticRegression(max_iter=1000)\n",
    "model3.fit(X_train, y_train)"
   ]
  },
  {
   "cell_type": "code",
   "execution_count": 67,
   "metadata": {},
   "outputs": [
    {
     "name": "stdout",
     "output_type": "stream",
     "text": [
      "roc_auc: 0.62\n"
     ]
    }
   ],
   "source": [
    "y_pred = model3.predict_proba(X_test)[:, 1]\n",
    "score3 = roc_auc_score(y_test, y_pred)\n",
    "\n",
    "print(f\"roc_auc: {round(score3, 2)}\")"
   ]
  },
  {
   "cell_type": "code",
   "execution_count": null,
   "metadata": {},
   "outputs": [],
   "source": []
  },
  {
   "cell_type": "markdown",
   "metadata": {},
   "source": [
    "**Модель 4.**\n",
    "\n",
    "В качестве признаков one-hot вектор игроков + one-hot вектор вопросов"
   ]
  },
  {
   "cell_type": "code",
   "execution_count": 11,
   "metadata": {},
   "outputs": [
    {
     "name": "stderr",
     "output_type": "stream",
     "text": [
      "100%|██████████| 352/352 [02:48<00:00,  2.08it/s]\n",
      "100%|██████████| 100/100 [00:43<00:00,  2.31it/s]\n"
     ]
    }
   ],
   "source": [
    "X_train, y_train, X_test, y_test = split_data(train36, test36, feat_type=3)"
   ]
  },
  {
   "cell_type": "code",
   "execution_count": 12,
   "metadata": {},
   "outputs": [
    {
     "data": {
      "text/plain": [
       "LogisticRegression(C=1, class_weight=None, dual=False, fit_intercept=True,\n",
       "                   intercept_scaling=1, l1_ratio=None, max_iter=100,\n",
       "                   multi_class='auto', n_jobs=None, penalty='l2',\n",
       "                   random_state=None, solver='saga', tol=0.1, verbose=0,\n",
       "                   warm_start=False)"
      ]
     },
     "execution_count": 12,
     "metadata": {},
     "output_type": "execute_result"
    }
   ],
   "source": [
    "model4 = LogisticRegression(tol=1e-1, solver=\"saga\", C=1)\n",
    "model4.fit(X_train, y_train)"
   ]
  },
  {
   "cell_type": "code",
   "execution_count": 13,
   "metadata": {},
   "outputs": [
    {
     "name": "stdout",
     "output_type": "stream",
     "text": [
      "roc_auc: 0.62\n"
     ]
    }
   ],
   "source": [
    "y_pred = model4.predict_proba(X_test)[:, 1]\n",
    "score4 = roc_auc_score(y_test, y_pred)\n",
    "\n",
    "print(f\"roc_auc: {round(score4, 2)}\")"
   ]
  },
  {
   "cell_type": "code",
   "execution_count": null,
   "metadata": {},
   "outputs": [],
   "source": []
  },
  {
   "cell_type": "markdown",
   "metadata": {},
   "source": [
    "**Выводы:**\n",
    "* Качество на тесте получилось везде примерно одинаковое: порядка 0.62. Не вау, но, по крайней мере, больше 0.5. Значит модели хоть какую-то закономерность уловили.\n",
    "* У второй модели, где в качестве признаков использовался дополнительно тип игры - качество чуть ниже. Эту модель далее рассматривать не будем.\n",
    "* У трех оставшихся моделей метрики качества совпадают: это говорит о том, что признак *one-hot вектор игрока* превалирующую роль играет.\n",
    "* В 4-й модели еще учитывается \"сложность\" вопросов. Хотя сложность вопросов мы можем оценить только на обучающей выборке. Но получается, что \"сила\" игроков (коэффициенты лог. регрессии) как бы перевзвешиваются с учетом сложности вопросов.\n",
    "* В качестве \"силы\" игроков и \"сложности\" вопросов будем использовать соответствующие коэффициенты получившейся логистической регрессии.\n",
    "\n",
    "Далее остановимся на 4-й модели, т.к. чуть получше дала результаты в **п.3** для корреляций"
   ]
  },
  {
   "cell_type": "code",
   "execution_count": null,
   "metadata": {},
   "outputs": [],
   "source": []
  },
  {
   "cell_type": "code",
   "execution_count": null,
   "metadata": {},
   "outputs": [],
   "source": []
  },
  {
   "cell_type": "markdown",
   "metadata": {},
   "source": [
    "## Задание 3\n",
    "\n",
    "Качество рейтинг-системы оценивается качеством предсказаний результатов турниров. Но сами повопросные результаты наши модели предсказывать вряд ли смогут, ведь неизвестно, насколько сложными окажутся вопросы в будущих турнирах; да и не нужны эти предсказания сами по себе. Поэтому:\n",
    "* предложите способ предсказать результаты нового турнира с известными составами, но неизвестными вопросами, в виде ранжирования команд;\n",
    "* в качестве метрики качества на тестовом наборе давайте считать ранговые корреляции Спирмена и Кендалла (их можно взять в пакете scipy) между реальным ранжированием в результатах турнира и предсказанным моделью, усреднённые по тестовому множеству турниров.\n"
   ]
  },
  {
   "cell_type": "code",
   "execution_count": null,
   "metadata": {},
   "outputs": [],
   "source": []
  },
  {
   "cell_type": "markdown",
   "metadata": {},
   "source": [
    ">* Далее будем оценивать \"силу\" одного игрока, как соответствующий коэффициент обученной логистической регрессии. \n",
    "* \"Силу\" команды - как среднее значение \"силы\" всех игроков. \n",
    "* Прогноз результата игры: отранжированные по \"силе\" команды."
   ]
  },
  {
   "cell_type": "code",
   "execution_count": 17,
   "metadata": {},
   "outputs": [],
   "source": [
    "def get_corr(coef):\n",
    "    \"\"\"Расчет ранговых корреляций Спирмена и Кендалла на тесте.\"\"\"\n",
    "\n",
    "    order_real = []\n",
    "    order_pred = []\n",
    "\n",
    "    for t in test36:\n",
    "\n",
    "        rating_real = []\n",
    "        rating_pred = []\n",
    "\n",
    "        for i, team in enumerate(t[\"teams\"]):\n",
    "\n",
    "            members = [\n",
    "                coef[id_player_to_order[member]]\n",
    "                for member in team[\"members\"] \n",
    "                if member in unique_players_test\n",
    "            ]\n",
    "\n",
    "            if len(members) == 0:\n",
    "                continue\n",
    "\n",
    "            rating_real.append(i)\n",
    "            rating_pred.append(np.mean(members))\n",
    "\n",
    "        if len(rating_real) == 0:\n",
    "            continue\n",
    "\n",
    "        order_real.append(rating_real)\n",
    "        order_pred.append(np.argsort(rating_pred)[::-1])\n",
    "\n",
    "\n",
    "    spearmanr_coef = np.mean([stats.spearmanr(a, b)[0] for a, b in zip(order_real, order_pred)])\n",
    "    kendalltau_coef = np.mean([stats.kendalltau(a, b)[0] for a, b in zip(order_real, order_pred)])\n",
    "    \n",
    "    return {\"spearmanr\": spearmanr_coef, \"kendalltau\": kendalltau_coef}"
   ]
  },
  {
   "cell_type": "code",
   "execution_count": 49,
   "metadata": {},
   "outputs": [
    {
     "name": "stdout",
     "output_type": "stream",
     "text": [
      "\n",
      "-> Ранговая корреляция Спирмена: 0.7525\n",
      "\n",
      "-> Ранговая корреляция Кендалла: 0.5814\n",
      "\n"
     ]
    }
   ],
   "source": [
    "corr = get_corr(model4.coef_[0])\n",
    "\n",
    "print(f\"\\n-> Ранговая корреляция Спирмена: {round(corr['spearmanr'], 4)}\")\n",
    "print(f\"\\n-> Ранговая корреляция Кендалла: {round(corr['kendalltau'], 4)}\\n\")"
   ]
  },
  {
   "cell_type": "markdown",
   "metadata": {},
   "source": [
    "**Выводы:**\n",
    "* ранговая корреляция Спирмена получилась равной ${\\sim0,75}$\n",
    "* ранговая корреляция Кендалла получилась равной ${\\sim0,58}$"
   ]
  },
  {
   "cell_type": "code",
   "execution_count": null,
   "metadata": {},
   "outputs": [],
   "source": []
  },
  {
   "cell_type": "code",
   "execution_count": null,
   "metadata": {},
   "outputs": [],
   "source": []
  },
  {
   "cell_type": "markdown",
   "metadata": {},
   "source": [
    "## Задание 4\n",
    "\n",
    "Теперь главное: ЧГК — это всё-таки командная игра. Поэтому:\n",
    "* предложите способ учитывать то, что на вопрос отвечают сразу несколько игроков; скорее всего, понадобятся скрытые переменные; не стесняйтесь делать упрощающие предположения, но теперь переменные “игрок X ответил на вопрос Y” при условии данных должны стать зависимыми для игроков одной и той же команды;\n",
    "* разработайте EM-схему для обучения этой модели, реализуйте её в коде;\n",
    "* обучите несколько итераций, убедитесь, что целевые метрики со временем растут (скорее всего, ненамного, но расти должны), выберите лучшую модель, используя целевые метрики.\n"
   ]
  },
  {
   "cell_type": "code",
   "execution_count": null,
   "metadata": {},
   "outputs": [],
   "source": []
  },
  {
   "cell_type": "markdown",
   "metadata": {},
   "source": [
    "Вероятность правильного ответа игрока при условии правильного ответа команды распишем по теореме Байеса:\n",
    "\n",
    "$${p(игрок=1|команда=1) = \\frac {p(игрок=1) \\cdot p(команда=1|игрок=1)}{p(команда=1)}}$$\n",
    "\n",
    "\n",
    "- **E-шаг:** оцениваем вероятность ${p(игрок=1|команда=1)}$\n",
    "\n",
    "\n",
    "- **М-шаг:** переобучаем модель на новых вероятностях\n",
    "\n",
    "\n",
    "*Пояснения:*\n",
    "\n",
    "* ${p(игрок=1)}$ - априорная вероятность, которую берем равной вероятности правильного ответа игроком из результа предсказания нашей обученной модели\n",
    "\n",
    "* ${p(игрок=1)}$ - вероятность правильного ответа команды. Но т.к. мы знаем, ответила команда или нет, то для правильных ответов данная вероятность будет равно 1.\n",
    "\n",
    "* ${p(команда=1|игрок=1)}$ - вероятность того, что игрок правильно ответил и команда приняла его версию. Здесь будем оценивать вероятность, как средний вес игрока по команде с учетом его \"силы\", которую предсказывает обученная модель. Чем более сильный игрок, тем команда вероятнее примет его версию."
   ]
  },
  {
   "cell_type": "code",
   "execution_count": null,
   "metadata": {},
   "outputs": [],
   "source": []
  },
  {
   "cell_type": "code",
   "execution_count": 84,
   "metadata": {},
   "outputs": [],
   "source": [
    "# id игроков по командам\n",
    "players_train_id = [team[\"members\"] for t in train36 for team in t[\"teams\"]]"
   ]
  },
  {
   "cell_type": "code",
   "execution_count": 85,
   "metadata": {},
   "outputs": [],
   "source": [
    "def get_prob_prior(y):\n",
    "    \"\"\"Расчет априорных вероятностей.\"\"\"\n",
    "    return 1 - 1. / (1 + np.exp(-y))\n",
    "    \n",
    "\n",
    "def E_step(prob_prior, coef, y_real):\n",
    "    \"\"\"Расчет новых меток для регрессии.\"\"\"\n",
    "    \n",
    "    # макс. правдоподобие\n",
    "    mle = np.zeros_like(prob_prior)\n",
    "    \n",
    "    i = 0\n",
    "    step = 36\n",
    "    for team in players_train_id:\n",
    "        \n",
    "        players_weight = np.array([coef[id_player_to_order[member]] for member in team])\n",
    "        players_weight[players_weight < 0] = 0\n",
    "        \n",
    "        if players_weight.sum() == 0:\n",
    "            players_weight = np.ones_like(players_weight)\n",
    "        players_weight = np.ones_like(players_weight)\n",
    "        \n",
    "        players_weight_norm = players_weight / players_weight.sum()\n",
    "        \n",
    "        for w in players_weight_norm:\n",
    "            mle[i:i+step] = w\n",
    "            i += step\n",
    "    \n",
    "    # умножение на y_real идет, чтобы обнулить метки там, \n",
    "    # где мы знаем, что команда не ответила\n",
    "    prob_posterior = prob_prior * mle * y_real\n",
    "    # prob_posterior = prob_prior * y_real\n",
    "    \n",
    "    z = np.log(prob_posterior / (1 - prob_posterior) + 1e-6)\n",
    "    \n",
    "    return z"
   ]
  },
  {
   "cell_type": "code",
   "execution_count": null,
   "metadata": {},
   "outputs": [],
   "source": []
  },
  {
   "cell_type": "code",
   "execution_count": 86,
   "metadata": {},
   "outputs": [
    {
     "name": "stdout",
     "output_type": "stream",
     "text": [
      "iter#1:    E-step...    M-step...\n",
      "Metrics:\n",
      "---> 'spearmanr':  0.7564\n",
      "---> 'kendalltau': 0.588\n",
      "\n",
      "iter#2:    E-step...    M-step...\n",
      "Metrics:\n",
      "---> 'spearmanr':  0.7554\n",
      "---> 'kendalltau': 0.587\n",
      "\n",
      "iter#3:    E-step...    M-step...\n",
      "Metrics:\n",
      "---> 'spearmanr':  0.7556\n",
      "---> 'kendalltau': 0.5873\n",
      "\n",
      "iter#4:    E-step...    M-step...\n",
      "Metrics:\n",
      "---> 'spearmanr':  0.7556\n",
      "---> 'kendalltau': 0.5871\n",
      "\n",
      "iter#5:    E-step...    M-step...\n",
      "Metrics:\n",
      "---> 'spearmanr':  0.7556\n",
      "---> 'kendalltau': 0.5871\n",
      "\n"
     ]
    }
   ],
   "source": [
    "regr = Ridge(alpha=1, solver='sparse_cg')\n",
    "\n",
    "prob_prior = model4.predict_proba(X_train)[:, 1]\n",
    "\n",
    "for i in range(5):\n",
    "    \n",
    "    print(f\"iter#{i+1}:    \", end=\"\")\n",
    "    \n",
    "    # E шаг\n",
    "    print(\"E-step...    \", end=\"\")\n",
    "    if i == 0:\n",
    "        z = E_step(prob_prior, model4.coef_[0], y_train)\n",
    "    else:\n",
    "        prob_prior = get_prob_prior(y_pred)\n",
    "        z = E_step(prob_prior, regr.coef_, y_train)\n",
    "    \n",
    "    # M шаг\n",
    "    print(\"M-step...\", end=\"\\n\")\n",
    "    \n",
    "    regr.fit(X_train, z)\n",
    "    \n",
    "    # метрики\n",
    "    corr = get_corr(regr.coef_)\n",
    "    \n",
    "    print(\"Metrics:\")\n",
    "    print(f\"---> 'spearmanr':  {round(corr['spearmanr'], 4)}\")\n",
    "    print(f\"---> 'kendalltau': {round(corr['kendalltau'], 4)}\")\n",
    "    print()\n",
    "    \n",
    "    y_pred = regr.predict(X_train)"
   ]
  },
  {
   "cell_type": "code",
   "execution_count": null,
   "metadata": {},
   "outputs": [],
   "source": []
  },
  {
   "cell_type": "markdown",
   "metadata": {},
   "source": [
    "**Выводы:**\n",
    "\n",
    "* Предсказание с точки зрения ранговых корреляций улучшилось буквально в 3-м знаке после запятой.\n",
    "\n",
    "* При этом видно, что на втором шаге ранговые корреляции увеличиваются, а потом не растут. Возможно, это связано с тем, что модель могла сойтись за одну итерацию. На 4-й и 5-ой итерациях метрики перестают меняться. При этом результат сильно зависит от выставляемой точности. Но при увеличении точности очень долго расчет идет...\n",
    "\n",
    "* Попробовал промоделировать случай, когда ${p(команда=1|игрок=1) = 1}$, т.е. если игрок предложил правильную версию, то команда обязательно ее выберет. Результаты качественно получились такими же."
   ]
  },
  {
   "cell_type": "code",
   "execution_count": null,
   "metadata": {},
   "outputs": [],
   "source": []
  },
  {
   "cell_type": "code",
   "execution_count": null,
   "metadata": {},
   "outputs": [],
   "source": []
  },
  {
   "cell_type": "markdown",
   "metadata": {},
   "source": [
    "## Задание 5\n",
    "\n",
    "А что там с вопросами? Постройте “рейтинг-лист” турниров по сложности вопросов. Соответствует ли он интуиции (например, на чемпионате мира в целом должны быть сложные вопросы, а на турнирах для школьников — простые)? Если будет интересно: постройте топ сложных и простых вопросов со ссылками на конкретные записи в базе вопросов ЧГК (это чисто техническое дело, тут никакого ML нету)."
   ]
  },
  {
   "cell_type": "code",
   "execution_count": null,
   "metadata": {},
   "outputs": [],
   "source": []
  },
  {
   "cell_type": "markdown",
   "metadata": {},
   "source": [
    "**Рейтинг турниров baseline-модели**"
   ]
  },
  {
   "cell_type": "code",
   "execution_count": 67,
   "metadata": {},
   "outputs": [],
   "source": [
    "tournament_rating = [\n",
    "    np.mean(model4.coef_[0][i:i+36]) \n",
    "    for i in range(len(unique_players_train), X_train.shape[1], 36)\n",
    "]\n",
    "\n",
    "tournament_order = np.argsort(tournament_rating)[::-1]\n",
    "\n",
    "tournament_name = [\n",
    "    tournaments[train36[i][\"id\"]][\"name\"] \n",
    "    for i in tournament_order\n",
    "]\n",
    "\n",
    "df_tournament = pd.DataFrame({\n",
    "    \"Наименование турнира\": tournament_name,\n",
    "    \"Условный рейтинг (сложность вопросов)\": np.sort(tournament_rating)[::-1]\n",
    "})"
   ]
  },
  {
   "cell_type": "markdown",
   "metadata": {},
   "source": [
    "Первые 10 турниров по средней сложности вопросов"
   ]
  },
  {
   "cell_type": "code",
   "execution_count": 74,
   "metadata": {},
   "outputs": [
    {
     "data": {
      "text/html": [
       "<div>\n",
       "<style scoped>\n",
       "    .dataframe tbody tr th:only-of-type {\n",
       "        vertical-align: middle;\n",
       "    }\n",
       "\n",
       "    .dataframe tbody tr th {\n",
       "        vertical-align: top;\n",
       "    }\n",
       "\n",
       "    .dataframe thead th {\n",
       "        text-align: right;\n",
       "    }\n",
       "</style>\n",
       "<table border=\"1\" class=\"dataframe\">\n",
       "  <thead>\n",
       "    <tr style=\"text-align: right;\">\n",
       "      <th></th>\n",
       "      <th>Наименование турнира</th>\n",
       "      <th>Условный рейтинг (сложность вопросов)</th>\n",
       "    </tr>\n",
       "  </thead>\n",
       "  <tbody>\n",
       "    <tr>\n",
       "      <th>0</th>\n",
       "      <td>(а)Синхрон-lite. Лига старта. Эпизод V</td>\n",
       "      <td>1.197257</td>\n",
       "    </tr>\n",
       "    <tr>\n",
       "      <th>1</th>\n",
       "      <td>(а)Синхрон-lite. Лига старта. Эпизод X</td>\n",
       "      <td>0.975768</td>\n",
       "    </tr>\n",
       "    <tr>\n",
       "      <th>2</th>\n",
       "      <td>(а)Синхрон-lite. Лига старта. Эпизод III</td>\n",
       "      <td>0.962551</td>\n",
       "    </tr>\n",
       "    <tr>\n",
       "      <th>3</th>\n",
       "      <td>(а)Синхрон-lite. Лига старта. Эпизод IX</td>\n",
       "      <td>0.925852</td>\n",
       "    </tr>\n",
       "    <tr>\n",
       "      <th>4</th>\n",
       "      <td>Второй тематический турнир имени Джоуи Триббиани</td>\n",
       "      <td>0.889426</td>\n",
       "    </tr>\n",
       "    <tr>\n",
       "      <th>5</th>\n",
       "      <td>(а)Синхрон-lite. Лига старта. Эпизод VII</td>\n",
       "      <td>0.851431</td>\n",
       "    </tr>\n",
       "    <tr>\n",
       "      <th>6</th>\n",
       "      <td>Межфакультетский кубок МГУ. Отбор №4</td>\n",
       "      <td>0.821586</td>\n",
       "    </tr>\n",
       "    <tr>\n",
       "      <th>7</th>\n",
       "      <td>Турнир малых факультетов МГУ</td>\n",
       "      <td>0.805268</td>\n",
       "    </tr>\n",
       "    <tr>\n",
       "      <th>8</th>\n",
       "      <td>(а)Синхрон-lite. Лига старта. Эпизод VI</td>\n",
       "      <td>0.788786</td>\n",
       "    </tr>\n",
       "    <tr>\n",
       "      <th>9</th>\n",
       "      <td>[18+] Болтик в гаечку</td>\n",
       "      <td>0.760821</td>\n",
       "    </tr>\n",
       "  </tbody>\n",
       "</table>\n",
       "</div>"
      ],
      "text/plain": [
       "                               Наименование турнира  \\\n",
       "0            (а)Синхрон-lite. Лига старта. Эпизод V   \n",
       "1            (а)Синхрон-lite. Лига старта. Эпизод X   \n",
       "2          (а)Синхрон-lite. Лига старта. Эпизод III   \n",
       "3           (а)Синхрон-lite. Лига старта. Эпизод IX   \n",
       "4  Второй тематический турнир имени Джоуи Триббиани   \n",
       "5          (а)Синхрон-lite. Лига старта. Эпизод VII   \n",
       "6              Межфакультетский кубок МГУ. Отбор №4   \n",
       "7                      Турнир малых факультетов МГУ   \n",
       "8           (а)Синхрон-lite. Лига старта. Эпизод VI   \n",
       "9                             [18+] Болтик в гаечку   \n",
       "\n",
       "   Условный рейтинг (сложность вопросов)  \n",
       "0                               1.197257  \n",
       "1                               0.975768  \n",
       "2                               0.962551  \n",
       "3                               0.925852  \n",
       "4                               0.889426  \n",
       "5                               0.851431  \n",
       "6                               0.821586  \n",
       "7                               0.805268  \n",
       "8                               0.788786  \n",
       "9                               0.760821  "
      ]
     },
     "execution_count": 74,
     "metadata": {},
     "output_type": "execute_result"
    }
   ],
   "source": [
    "df_tournament.head(10)"
   ]
  },
  {
   "cell_type": "markdown",
   "metadata": {},
   "source": [
    "Последние 10 турниров по средней сложности вопросов"
   ]
  },
  {
   "cell_type": "code",
   "execution_count": 76,
   "metadata": {},
   "outputs": [
    {
     "data": {
      "text/html": [
       "<div>\n",
       "<style scoped>\n",
       "    .dataframe tbody tr th:only-of-type {\n",
       "        vertical-align: middle;\n",
       "    }\n",
       "\n",
       "    .dataframe tbody tr th {\n",
       "        vertical-align: top;\n",
       "    }\n",
       "\n",
       "    .dataframe thead th {\n",
       "        text-align: right;\n",
       "    }\n",
       "</style>\n",
       "<table border=\"1\" class=\"dataframe\">\n",
       "  <thead>\n",
       "    <tr style=\"text-align: right;\">\n",
       "      <th></th>\n",
       "      <th>Наименование турнира</th>\n",
       "      <th>Условный рейтинг (сложность вопросов)</th>\n",
       "    </tr>\n",
       "  </thead>\n",
       "  <tbody>\n",
       "    <tr>\n",
       "      <th>342</th>\n",
       "      <td>Записки охотника</td>\n",
       "      <td>-1.693337</td>\n",
       "    </tr>\n",
       "    <tr>\n",
       "      <th>343</th>\n",
       "      <td>Тихий Донец: омут первый</td>\n",
       "      <td>-1.694044</td>\n",
       "    </tr>\n",
       "    <tr>\n",
       "      <th>344</th>\n",
       "      <td>Воображаемый музей</td>\n",
       "      <td>-1.711905</td>\n",
       "    </tr>\n",
       "    <tr>\n",
       "      <th>345</th>\n",
       "      <td>Ра-II: синхрон \"Борского корабела\"</td>\n",
       "      <td>-1.714863</td>\n",
       "    </tr>\n",
       "    <tr>\n",
       "      <th>346</th>\n",
       "      <td>VERSUS: Коробейников vs. Матвеев</td>\n",
       "      <td>-1.725410</td>\n",
       "    </tr>\n",
       "    <tr>\n",
       "      <th>347</th>\n",
       "      <td>Ускользающая сова</td>\n",
       "      <td>-1.746946</td>\n",
       "    </tr>\n",
       "    <tr>\n",
       "      <th>348</th>\n",
       "      <td>Чемпионат Минска. Лига А. Тур четвёртый</td>\n",
       "      <td>-1.754353</td>\n",
       "    </tr>\n",
       "    <tr>\n",
       "      <th>349</th>\n",
       "      <td>Зеркало мемориала памяти Михаила Басса</td>\n",
       "      <td>-1.754840</td>\n",
       "    </tr>\n",
       "    <tr>\n",
       "      <th>350</th>\n",
       "      <td>Знание – Сила VI</td>\n",
       "      <td>-1.822086</td>\n",
       "    </tr>\n",
       "    <tr>\n",
       "      <th>351</th>\n",
       "      <td>Первенство правого полушария</td>\n",
       "      <td>-2.243688</td>\n",
       "    </tr>\n",
       "  </tbody>\n",
       "</table>\n",
       "</div>"
      ],
      "text/plain": [
       "                        Наименование турнира  \\\n",
       "342                         Записки охотника   \n",
       "343                 Тихий Донец: омут первый   \n",
       "344                       Воображаемый музей   \n",
       "345       Ра-II: синхрон \"Борского корабела\"   \n",
       "346         VERSUS: Коробейников vs. Матвеев   \n",
       "347                        Ускользающая сова   \n",
       "348  Чемпионат Минска. Лига А. Тур четвёртый   \n",
       "349   Зеркало мемориала памяти Михаила Басса   \n",
       "350                         Знание – Сила VI   \n",
       "351             Первенство правого полушария   \n",
       "\n",
       "     Условный рейтинг (сложность вопросов)  \n",
       "342                              -1.693337  \n",
       "343                              -1.694044  \n",
       "344                              -1.711905  \n",
       "345                              -1.714863  \n",
       "346                              -1.725410  \n",
       "347                              -1.746946  \n",
       "348                              -1.754353  \n",
       "349                              -1.754840  \n",
       "350                              -1.822086  \n",
       "351                              -2.243688  "
      ]
     },
     "execution_count": 76,
     "metadata": {},
     "output_type": "execute_result"
    }
   ],
   "source": [
    "df_tournament.tail(10)"
   ]
  },
  {
   "cell_type": "code",
   "execution_count": null,
   "metadata": {},
   "outputs": [],
   "source": []
  },
  {
   "cell_type": "markdown",
   "metadata": {},
   "source": [
    "**Рейтинг турниров EM-модели**"
   ]
  },
  {
   "cell_type": "code",
   "execution_count": 87,
   "metadata": {},
   "outputs": [],
   "source": [
    "tournament_rating = [\n",
    "    np.mean(regr.coef_[i:i+36]) \n",
    "    for i in range(len(unique_players_train), X_train.shape[1], 36)\n",
    "]\n",
    "\n",
    "tournament_order = np.argsort(tournament_rating)[::-1]\n",
    "\n",
    "tournament_name = [\n",
    "    tournaments[train36[i][\"id\"]][\"name\"] \n",
    "    for i in tournament_order\n",
    "]\n",
    "\n",
    "df_tournament = pd.DataFrame({\n",
    "    \"Наименование турнира\": tournament_name,\n",
    "    \"Условный рейтинг (сложность вопросов)\": np.sort(tournament_rating)[::-1]\n",
    "})"
   ]
  },
  {
   "cell_type": "markdown",
   "metadata": {},
   "source": [
    "Первые 10 турниров по средней сложности вопросов"
   ]
  },
  {
   "cell_type": "code",
   "execution_count": 88,
   "metadata": {},
   "outputs": [
    {
     "data": {
      "text/html": [
       "<div>\n",
       "<style scoped>\n",
       "    .dataframe tbody tr th:only-of-type {\n",
       "        vertical-align: middle;\n",
       "    }\n",
       "\n",
       "    .dataframe tbody tr th {\n",
       "        vertical-align: top;\n",
       "    }\n",
       "\n",
       "    .dataframe thead th {\n",
       "        text-align: right;\n",
       "    }\n",
       "</style>\n",
       "<table border=\"1\" class=\"dataframe\">\n",
       "  <thead>\n",
       "    <tr style=\"text-align: right;\">\n",
       "      <th></th>\n",
       "      <th>Наименование турнира</th>\n",
       "      <th>Условный рейтинг (сложность вопросов)</th>\n",
       "    </tr>\n",
       "  </thead>\n",
       "  <tbody>\n",
       "    <tr>\n",
       "      <th>0</th>\n",
       "      <td>(а)Синхрон-lite. Лига старта. Эпизод V</td>\n",
       "      <td>0.137746</td>\n",
       "    </tr>\n",
       "    <tr>\n",
       "      <th>1</th>\n",
       "      <td>(а)Синхрон-lite. Лига старта. Эпизод III</td>\n",
       "      <td>0.125593</td>\n",
       "    </tr>\n",
       "    <tr>\n",
       "      <th>2</th>\n",
       "      <td>(а)Синхрон-lite. Лига старта. Эпизод VII</td>\n",
       "      <td>0.124104</td>\n",
       "    </tr>\n",
       "    <tr>\n",
       "      <th>3</th>\n",
       "      <td>Школьная лига. I тур.</td>\n",
       "      <td>0.123410</td>\n",
       "    </tr>\n",
       "    <tr>\n",
       "      <th>4</th>\n",
       "      <td>Школьная лига. III тур.</td>\n",
       "      <td>0.122989</td>\n",
       "    </tr>\n",
       "    <tr>\n",
       "      <th>5</th>\n",
       "      <td>Школьный Синхрон-lite. Выпуск 2.5</td>\n",
       "      <td>0.122913</td>\n",
       "    </tr>\n",
       "    <tr>\n",
       "      <th>6</th>\n",
       "      <td>(а)Синхрон-lite. Лига старта. Эпизод IX</td>\n",
       "      <td>0.121207</td>\n",
       "    </tr>\n",
       "    <tr>\n",
       "      <th>7</th>\n",
       "      <td>Школьная лига. II тур.</td>\n",
       "      <td>0.115384</td>\n",
       "    </tr>\n",
       "    <tr>\n",
       "      <th>8</th>\n",
       "      <td>(а)Синхрон-lite. Лига старта. Эпизод IV</td>\n",
       "      <td>0.112998</td>\n",
       "    </tr>\n",
       "    <tr>\n",
       "      <th>9</th>\n",
       "      <td>Межфакультетский кубок МГУ. Отбор №4</td>\n",
       "      <td>0.110537</td>\n",
       "    </tr>\n",
       "  </tbody>\n",
       "</table>\n",
       "</div>"
      ],
      "text/plain": [
       "                       Наименование турнира  \\\n",
       "0    (а)Синхрон-lite. Лига старта. Эпизод V   \n",
       "1  (а)Синхрон-lite. Лига старта. Эпизод III   \n",
       "2  (а)Синхрон-lite. Лига старта. Эпизод VII   \n",
       "3                     Школьная лига. I тур.   \n",
       "4                   Школьная лига. III тур.   \n",
       "5         Школьный Синхрон-lite. Выпуск 2.5   \n",
       "6   (а)Синхрон-lite. Лига старта. Эпизод IX   \n",
       "7                    Школьная лига. II тур.   \n",
       "8   (а)Синхрон-lite. Лига старта. Эпизод IV   \n",
       "9      Межфакультетский кубок МГУ. Отбор №4   \n",
       "\n",
       "   Условный рейтинг (сложность вопросов)  \n",
       "0                               0.137746  \n",
       "1                               0.125593  \n",
       "2                               0.124104  \n",
       "3                               0.123410  \n",
       "4                               0.122989  \n",
       "5                               0.122913  \n",
       "6                               0.121207  \n",
       "7                               0.115384  \n",
       "8                               0.112998  \n",
       "9                               0.110537  "
      ]
     },
     "execution_count": 88,
     "metadata": {},
     "output_type": "execute_result"
    }
   ],
   "source": [
    "df_tournament.head(10)"
   ]
  },
  {
   "cell_type": "markdown",
   "metadata": {},
   "source": [
    "Последние 10 турниров по средней сложности вопросов"
   ]
  },
  {
   "cell_type": "code",
   "execution_count": 89,
   "metadata": {},
   "outputs": [
    {
     "data": {
      "text/html": [
       "<div>\n",
       "<style scoped>\n",
       "    .dataframe tbody tr th:only-of-type {\n",
       "        vertical-align: middle;\n",
       "    }\n",
       "\n",
       "    .dataframe tbody tr th {\n",
       "        vertical-align: top;\n",
       "    }\n",
       "\n",
       "    .dataframe thead th {\n",
       "        text-align: right;\n",
       "    }\n",
       "</style>\n",
       "<table border=\"1\" class=\"dataframe\">\n",
       "  <thead>\n",
       "    <tr style=\"text-align: right;\">\n",
       "      <th></th>\n",
       "      <th>Наименование турнира</th>\n",
       "      <th>Условный рейтинг (сложность вопросов)</th>\n",
       "    </tr>\n",
       "  </thead>\n",
       "  <tbody>\n",
       "    <tr>\n",
       "      <th>342</th>\n",
       "      <td>Чемпионат Минска. Лига А. Тур второй</td>\n",
       "      <td>-0.090908</td>\n",
       "    </tr>\n",
       "    <tr>\n",
       "      <th>343</th>\n",
       "      <td>Серия Premier. Седьмая печать</td>\n",
       "      <td>-0.091194</td>\n",
       "    </tr>\n",
       "    <tr>\n",
       "      <th>344</th>\n",
       "      <td>Львов зимой. Адвокат</td>\n",
       "      <td>-0.093298</td>\n",
       "    </tr>\n",
       "    <tr>\n",
       "      <th>345</th>\n",
       "      <td>Зеркало мемориала памяти Михаила Басса</td>\n",
       "      <td>-0.102600</td>\n",
       "    </tr>\n",
       "    <tr>\n",
       "      <th>346</th>\n",
       "      <td>Знание – Сила VI</td>\n",
       "      <td>-0.102636</td>\n",
       "    </tr>\n",
       "    <tr>\n",
       "      <th>347</th>\n",
       "      <td>Ускользающая сова</td>\n",
       "      <td>-0.103769</td>\n",
       "    </tr>\n",
       "    <tr>\n",
       "      <th>348</th>\n",
       "      <td>Записки охотника</td>\n",
       "      <td>-0.104776</td>\n",
       "    </tr>\n",
       "    <tr>\n",
       "      <th>349</th>\n",
       "      <td>Чемпионат Минска. Лига А. Тур четвёртый</td>\n",
       "      <td>-0.105636</td>\n",
       "    </tr>\n",
       "    <tr>\n",
       "      <th>350</th>\n",
       "      <td>Первенство правого полушария</td>\n",
       "      <td>-0.113755</td>\n",
       "    </tr>\n",
       "    <tr>\n",
       "      <th>351</th>\n",
       "      <td>Воображаемый музей</td>\n",
       "      <td>-0.113873</td>\n",
       "    </tr>\n",
       "  </tbody>\n",
       "</table>\n",
       "</div>"
      ],
      "text/plain": [
       "                        Наименование турнира  \\\n",
       "342     Чемпионат Минска. Лига А. Тур второй   \n",
       "343            Серия Premier. Седьмая печать   \n",
       "344                     Львов зимой. Адвокат   \n",
       "345   Зеркало мемориала памяти Михаила Басса   \n",
       "346                         Знание – Сила VI   \n",
       "347                        Ускользающая сова   \n",
       "348                         Записки охотника   \n",
       "349  Чемпионат Минска. Лига А. Тур четвёртый   \n",
       "350             Первенство правого полушария   \n",
       "351                       Воображаемый музей   \n",
       "\n",
       "     Условный рейтинг (сложность вопросов)  \n",
       "342                              -0.090908  \n",
       "343                              -0.091194  \n",
       "344                              -0.093298  \n",
       "345                              -0.102600  \n",
       "346                              -0.102636  \n",
       "347                              -0.103769  \n",
       "348                              -0.104776  \n",
       "349                              -0.105636  \n",
       "350                              -0.113755  \n",
       "351                              -0.113873  "
      ]
     },
     "execution_count": 89,
     "metadata": {},
     "output_type": "execute_result"
    }
   ],
   "source": [
    "df_tournament.tail(10)"
   ]
  },
  {
   "cell_type": "markdown",
   "metadata": {},
   "source": [
    "**Выводы:**\n",
    "\n",
    "* Тут первая некорректность всплыла, что оставил игры с 36 вопросами. Получается, чемпионаты мира не попали, как минимум.\n",
    "\n",
    "\n",
    "* И похоже, что плохо турниры по сложности вопросов отсортировались. В результах, полученных из EM-алгоритма, аж 3 школьных игры в топ10 попали. А чемпионат Минска в последнем десятке наоборот."
   ]
  },
  {
   "cell_type": "code",
   "execution_count": null,
   "metadata": {},
   "outputs": [],
   "source": []
  },
  {
   "cell_type": "code",
   "execution_count": null,
   "metadata": {},
   "outputs": [],
   "source": []
  },
  {
   "cell_type": "markdown",
   "metadata": {},
   "source": [
    "## Задание 6\n",
    "\n",
    "*Бонус:* постройте топ игроков по предсказанной вашей моделью силе игры, а рядом с именами игроков напишите общее число вопросов, которое они сыграли. Скорее всего, вы увидите, что топ занят игроками, которые сыграли совсем мало вопросов, около 100 или даже меньше; если вы поищете их в официальном рейтинге ЧГК, вы увидите, что это какие-то непонятные ноунеймы. В baseline-модели, скорее всего, такой эффект будет гораздо слабее.\n",
    "\n",
    "Это естественное свойство модели: за счёт EM-схемы влияние 1-2 удачно сыгранных турниров будет только усиливаться, потому что неудачных турниров, чтобы его компенсировать, у этих игроков нет. Более того, это не мешает метрикам качества, потому что если эти игроки сыграли всего 1-2 турнира в 2019-м, скорее всего они ничего или очень мало сыграли и в 2020, и их рейтинги никак не влияют на качество тестовых предсказаний. Но для реального рейтинга такое свойство, конечно, было бы крайне нежелательным. Давайте попробуем его исправить:\n",
    "* сначала жёстко: выберите разумную отсечку по числу вопросов, учитывая, что в одном турнире их обычно 30-50;\n",
    "можно ли просто выбросить игроков, которые мало играли, и переобучить модель? почему? предложите, как нужно изменить модель, чтобы не учитывать слишком мало сыгравших, и переобучите модель;\n",
    "* но всё-таки это не слишком хорошее решение: если выбрать маленькую отсечку, будут ноунеймы в топе, а если большую, то получится, что у нового игрока слишком долго не будет рейтинга; скорее всего, никакой “золотой середины” тут не получится;\n",
    "* предложите более концептуальное решение для топа игроков в рейтинг-листе; если получится, реализуйте его на практике (за это уж точно будут серьёзные бонусные баллы).\n"
   ]
  },
  {
   "cell_type": "code",
   "execution_count": null,
   "metadata": {},
   "outputs": [],
   "source": []
  },
  {
   "cell_type": "markdown",
   "metadata": {},
   "source": [
    "**Построим только топ-игроков**"
   ]
  },
  {
   "cell_type": "code",
   "execution_count": 92,
   "metadata": {},
   "outputs": [],
   "source": [
    "import collections\n",
    "\n",
    "freq = collections.Counter(all_players_train)"
   ]
  },
  {
   "cell_type": "code",
   "execution_count": 111,
   "metadata": {},
   "outputs": [],
   "source": [
    "player_name = []\n",
    "player_tournaments_count = []\n",
    "player_rating = []\n",
    "\n",
    "for pl_id in freq:\n",
    "    player_name.append(f\"{players[pl_id]['surname']} {players[pl_id]['name']} {players[pl_id]['patronymic']}\")\n",
    "    player_tournaments_count.append(freq[pl_id])\n",
    "    player_rating.append(model4.coef_[0][id_player_to_order[pl_id]])\n",
    "    \n",
    "df_players = pd.DataFrame({\n",
    "    \"Игрок\": player_name, \n",
    "    \"Количество игр\": player_tournaments_count, \n",
    "    \"Число вопросов\": np.array(player_tournaments_count) * 36, \n",
    "    \"Условный рейтинг\": player_rating\n",
    "})\n",
    "\n",
    "df_players = df_players.sort_values(\n",
    "    by=\"Условный рейтинг\", ascending=False\n",
    ").reset_index(drop=True)"
   ]
  },
  {
   "cell_type": "code",
   "execution_count": null,
   "metadata": {},
   "outputs": [],
   "source": []
  },
  {
   "cell_type": "markdown",
   "metadata": {},
   "source": [
    "**Топ-15 игров по версии baseline-модели**"
   ]
  },
  {
   "cell_type": "code",
   "execution_count": 113,
   "metadata": {},
   "outputs": [
    {
     "data": {
      "text/html": [
       "<div>\n",
       "<style scoped>\n",
       "    .dataframe tbody tr th:only-of-type {\n",
       "        vertical-align: middle;\n",
       "    }\n",
       "\n",
       "    .dataframe tbody tr th {\n",
       "        vertical-align: top;\n",
       "    }\n",
       "\n",
       "    .dataframe thead th {\n",
       "        text-align: right;\n",
       "    }\n",
       "</style>\n",
       "<table border=\"1\" class=\"dataframe\">\n",
       "  <thead>\n",
       "    <tr style=\"text-align: right;\">\n",
       "      <th></th>\n",
       "      <th>Игрок</th>\n",
       "      <th>Количество игр</th>\n",
       "      <th>Число вопросов</th>\n",
       "      <th>Условный рейтинг</th>\n",
       "    </tr>\n",
       "  </thead>\n",
       "  <tbody>\n",
       "    <tr>\n",
       "      <th>0</th>\n",
       "      <td>Руссо Максим Михайлович</td>\n",
       "      <td>29</td>\n",
       "      <td>1044</td>\n",
       "      <td>2.823395</td>\n",
       "    </tr>\n",
       "    <tr>\n",
       "      <th>1</th>\n",
       "      <td>Савченков Михаил Владимирович</td>\n",
       "      <td>39</td>\n",
       "      <td>1404</td>\n",
       "      <td>2.783042</td>\n",
       "    </tr>\n",
       "    <tr>\n",
       "      <th>2</th>\n",
       "      <td>Семушин Иван Николаевич</td>\n",
       "      <td>53</td>\n",
       "      <td>1908</td>\n",
       "      <td>2.744875</td>\n",
       "    </tr>\n",
       "    <tr>\n",
       "      <th>3</th>\n",
       "      <td>Сорожкин Артём Сергеевич</td>\n",
       "      <td>69</td>\n",
       "      <td>2484</td>\n",
       "      <td>2.703317</td>\n",
       "    </tr>\n",
       "    <tr>\n",
       "      <th>4</th>\n",
       "      <td>Брутер Александра Владимировна</td>\n",
       "      <td>36</td>\n",
       "      <td>1296</td>\n",
       "      <td>2.688913</td>\n",
       "    </tr>\n",
       "    <tr>\n",
       "      <th>5</th>\n",
       "      <td>Спешков Сергей Леонидович</td>\n",
       "      <td>44</td>\n",
       "      <td>1584</td>\n",
       "      <td>2.674418</td>\n",
       "    </tr>\n",
       "    <tr>\n",
       "      <th>6</th>\n",
       "      <td>Прокофьева Ирина Сергеевна</td>\n",
       "      <td>7</td>\n",
       "      <td>252</td>\n",
       "      <td>2.585083</td>\n",
       "    </tr>\n",
       "    <tr>\n",
       "      <th>7</th>\n",
       "      <td>Пашковский Евгений Александрович</td>\n",
       "      <td>16</td>\n",
       "      <td>576</td>\n",
       "      <td>2.566497</td>\n",
       "    </tr>\n",
       "    <tr>\n",
       "      <th>8</th>\n",
       "      <td>Саксонов Антон Владимирович</td>\n",
       "      <td>20</td>\n",
       "      <td>720</td>\n",
       "      <td>2.544706</td>\n",
       "    </tr>\n",
       "    <tr>\n",
       "      <th>9</th>\n",
       "      <td>Николенко Сергей Игоревич</td>\n",
       "      <td>24</td>\n",
       "      <td>864</td>\n",
       "      <td>2.530892</td>\n",
       "    </tr>\n",
       "    <tr>\n",
       "      <th>10</th>\n",
       "      <td>Чернин Антон Анатольевич</td>\n",
       "      <td>14</td>\n",
       "      <td>504</td>\n",
       "      <td>2.525159</td>\n",
       "    </tr>\n",
       "    <tr>\n",
       "      <th>11</th>\n",
       "      <td>Мокин Игорь Викторович</td>\n",
       "      <td>14</td>\n",
       "      <td>504</td>\n",
       "      <td>2.520396</td>\n",
       "    </tr>\n",
       "    <tr>\n",
       "      <th>12</th>\n",
       "      <td>Мартынов Александр Ефимович</td>\n",
       "      <td>15</td>\n",
       "      <td>540</td>\n",
       "      <td>2.511924</td>\n",
       "    </tr>\n",
       "    <tr>\n",
       "      <th>13</th>\n",
       "      <td>Левандовский Михаил Ильич</td>\n",
       "      <td>12</td>\n",
       "      <td>432</td>\n",
       "      <td>2.505565</td>\n",
       "    </tr>\n",
       "    <tr>\n",
       "      <th>14</th>\n",
       "      <td>Либер Александр Витальевич</td>\n",
       "      <td>51</td>\n",
       "      <td>1836</td>\n",
       "      <td>2.503546</td>\n",
       "    </tr>\n",
       "  </tbody>\n",
       "</table>\n",
       "</div>"
      ],
      "text/plain": [
       "                               Игрок  Количество игр  Число вопросов  \\\n",
       "0            Руссо Максим Михайлович              29            1044   \n",
       "1      Савченков Михаил Владимирович              39            1404   \n",
       "2            Семушин Иван Николаевич              53            1908   \n",
       "3           Сорожкин Артём Сергеевич              69            2484   \n",
       "4     Брутер Александра Владимировна              36            1296   \n",
       "5          Спешков Сергей Леонидович              44            1584   \n",
       "6         Прокофьева Ирина Сергеевна               7             252   \n",
       "7   Пашковский Евгений Александрович              16             576   \n",
       "8        Саксонов Антон Владимирович              20             720   \n",
       "9          Николенко Сергей Игоревич              24             864   \n",
       "10          Чернин Антон Анатольевич              14             504   \n",
       "11            Мокин Игорь Викторович              14             504   \n",
       "12       Мартынов Александр Ефимович              15             540   \n",
       "13         Левандовский Михаил Ильич              12             432   \n",
       "14        Либер Александр Витальевич              51            1836   \n",
       "\n",
       "    Условный рейтинг  \n",
       "0           2.823395  \n",
       "1           2.783042  \n",
       "2           2.744875  \n",
       "3           2.703317  \n",
       "4           2.688913  \n",
       "5           2.674418  \n",
       "6           2.585083  \n",
       "7           2.566497  \n",
       "8           2.544706  \n",
       "9           2.530892  \n",
       "10          2.525159  \n",
       "11          2.520396  \n",
       "12          2.511924  \n",
       "13          2.505565  \n",
       "14          2.503546  "
      ]
     },
     "execution_count": 113,
     "metadata": {},
     "output_type": "execute_result"
    }
   ],
   "source": [
    "df_players.head(15)"
   ]
  },
  {
   "cell_type": "code",
   "execution_count": 115,
   "metadata": {},
   "outputs": [],
   "source": [
    "player_name = []\n",
    "player_tournaments_count = []\n",
    "player_rating = []\n",
    "\n",
    "for pl_id in freq:\n",
    "    player_name.append(f\"{players[pl_id]['surname']} {players[pl_id]['name']} {players[pl_id]['patronymic']}\")\n",
    "    player_tournaments_count.append(freq[pl_id])\n",
    "    player_rating.append(regr.coef_[id_player_to_order[pl_id]])\n",
    "    \n",
    "df_players = pd.DataFrame({\n",
    "    \"Игрок\": player_name, \n",
    "    \"Количество игр\": player_tournaments_count, \n",
    "    \"Число вопросов\": np.array(player_tournaments_count) * 36, \n",
    "    \"Условный рейтинг\": player_rating\n",
    "})\n",
    "\n",
    "df_players = df_players.sort_values(\n",
    "    by=\"Условный рейтинг\", ascending=False\n",
    ").reset_index(drop=True)"
   ]
  },
  {
   "cell_type": "markdown",
   "metadata": {},
   "source": [
    "**Топ-15 игров по версии EM-модели**"
   ]
  },
  {
   "cell_type": "code",
   "execution_count": 116,
   "metadata": {
    "scrolled": true
   },
   "outputs": [
    {
     "data": {
      "text/html": [
       "<div>\n",
       "<style scoped>\n",
       "    .dataframe tbody tr th:only-of-type {\n",
       "        vertical-align: middle;\n",
       "    }\n",
       "\n",
       "    .dataframe tbody tr th {\n",
       "        vertical-align: top;\n",
       "    }\n",
       "\n",
       "    .dataframe thead th {\n",
       "        text-align: right;\n",
       "    }\n",
       "</style>\n",
       "<table border=\"1\" class=\"dataframe\">\n",
       "  <thead>\n",
       "    <tr style=\"text-align: right;\">\n",
       "      <th></th>\n",
       "      <th>Игрок</th>\n",
       "      <th>Количество игр</th>\n",
       "      <th>Число вопросов</th>\n",
       "      <th>Условный рейтинг</th>\n",
       "    </tr>\n",
       "  </thead>\n",
       "  <tbody>\n",
       "    <tr>\n",
       "      <th>0</th>\n",
       "      <td>Руссо Максим Михайлович</td>\n",
       "      <td>29</td>\n",
       "      <td>1044</td>\n",
       "      <td>7.849654</td>\n",
       "    </tr>\n",
       "    <tr>\n",
       "      <th>1</th>\n",
       "      <td>Семушин Иван Николаевич</td>\n",
       "      <td>53</td>\n",
       "      <td>1908</td>\n",
       "      <td>7.767524</td>\n",
       "    </tr>\n",
       "    <tr>\n",
       "      <th>2</th>\n",
       "      <td>Савченков Михаил Владимирович</td>\n",
       "      <td>39</td>\n",
       "      <td>1404</td>\n",
       "      <td>7.756746</td>\n",
       "    </tr>\n",
       "    <tr>\n",
       "      <th>3</th>\n",
       "      <td>Брутер Александра Владимировна</td>\n",
       "      <td>36</td>\n",
       "      <td>1296</td>\n",
       "      <td>7.641547</td>\n",
       "    </tr>\n",
       "    <tr>\n",
       "      <th>4</th>\n",
       "      <td>Летюхина Мария Алексеевна</td>\n",
       "      <td>3</td>\n",
       "      <td>108</td>\n",
       "      <td>7.508455</td>\n",
       "    </tr>\n",
       "    <tr>\n",
       "      <th>5</th>\n",
       "      <td>Царёв Михаил Сергеевич</td>\n",
       "      <td>3</td>\n",
       "      <td>108</td>\n",
       "      <td>7.508334</td>\n",
       "    </tr>\n",
       "    <tr>\n",
       "      <th>6</th>\n",
       "      <td>Спешков Сергей Леонидович</td>\n",
       "      <td>44</td>\n",
       "      <td>1584</td>\n",
       "      <td>7.507270</td>\n",
       "    </tr>\n",
       "    <tr>\n",
       "      <th>7</th>\n",
       "      <td>Пилипенко Максим Игоревич</td>\n",
       "      <td>1</td>\n",
       "      <td>36</td>\n",
       "      <td>7.507080</td>\n",
       "    </tr>\n",
       "    <tr>\n",
       "      <th>8</th>\n",
       "      <td>Мартынов Александр Ефимович</td>\n",
       "      <td>15</td>\n",
       "      <td>540</td>\n",
       "      <td>7.464076</td>\n",
       "    </tr>\n",
       "    <tr>\n",
       "      <th>9</th>\n",
       "      <td>Резникова Анна Григорьевна</td>\n",
       "      <td>1</td>\n",
       "      <td>36</td>\n",
       "      <td>7.426328</td>\n",
       "    </tr>\n",
       "    <tr>\n",
       "      <th>10</th>\n",
       "      <td>Прокофьева Ирина Сергеевна</td>\n",
       "      <td>7</td>\n",
       "      <td>252</td>\n",
       "      <td>7.372742</td>\n",
       "    </tr>\n",
       "    <tr>\n",
       "      <th>11</th>\n",
       "      <td>Сорожкин Артём Сергеевич</td>\n",
       "      <td>69</td>\n",
       "      <td>2484</td>\n",
       "      <td>7.370090</td>\n",
       "    </tr>\n",
       "    <tr>\n",
       "      <th>12</th>\n",
       "      <td>Вольфсон Игорь Павлович</td>\n",
       "      <td>1</td>\n",
       "      <td>36</td>\n",
       "      <td>7.351805</td>\n",
       "    </tr>\n",
       "    <tr>\n",
       "      <th>13</th>\n",
       "      <td>Мокин Игорь Викторович</td>\n",
       "      <td>14</td>\n",
       "      <td>504</td>\n",
       "      <td>7.342655</td>\n",
       "    </tr>\n",
       "    <tr>\n",
       "      <th>14</th>\n",
       "      <td>Николенко Сергей Игоревич</td>\n",
       "      <td>24</td>\n",
       "      <td>864</td>\n",
       "      <td>7.334095</td>\n",
       "    </tr>\n",
       "  </tbody>\n",
       "</table>\n",
       "</div>"
      ],
      "text/plain": [
       "                             Игрок  Количество игр  Число вопросов  \\\n",
       "0          Руссо Максим Михайлович              29            1044   \n",
       "1          Семушин Иван Николаевич              53            1908   \n",
       "2    Савченков Михаил Владимирович              39            1404   \n",
       "3   Брутер Александра Владимировна              36            1296   \n",
       "4        Летюхина Мария Алексеевна               3             108   \n",
       "5           Царёв Михаил Сергеевич               3             108   \n",
       "6        Спешков Сергей Леонидович              44            1584   \n",
       "7        Пилипенко Максим Игоревич               1              36   \n",
       "8      Мартынов Александр Ефимович              15             540   \n",
       "9       Резникова Анна Григорьевна               1              36   \n",
       "10      Прокофьева Ирина Сергеевна               7             252   \n",
       "11        Сорожкин Артём Сергеевич              69            2484   \n",
       "12         Вольфсон Игорь Павлович               1              36   \n",
       "13          Мокин Игорь Викторович              14             504   \n",
       "14       Николенко Сергей Игоревич              24             864   \n",
       "\n",
       "    Условный рейтинг  \n",
       "0           7.849654  \n",
       "1           7.767524  \n",
       "2           7.756746  \n",
       "3           7.641547  \n",
       "4           7.508455  \n",
       "5           7.508334  \n",
       "6           7.507270  \n",
       "7           7.507080  \n",
       "8           7.464076  \n",
       "9           7.426328  \n",
       "10          7.372742  \n",
       "11          7.370090  \n",
       "12          7.351805  \n",
       "13          7.342655  \n",
       "14          7.334095  "
      ]
     },
     "execution_count": 116,
     "metadata": {},
     "output_type": "execute_result"
    }
   ],
   "source": [
    "df_players.head(15)"
   ]
  },
  {
   "cell_type": "markdown",
   "metadata": {},
   "source": [
    "**Выводы по рейтингу игроков:**\n",
    "\n",
    "* Здесь уже результаты, на мой взгляд, неплохие. По крайней мере, в топе много людей, которые легко гуглятся (как, например, игроки Своей Игры) и на 2022 имеют достаточно высокие позиции (в первой или втором десятке).\n",
    "\n",
    "* Автор курса и домашнего задания Сергей Николенко попал на 9 и 14 места соответственно."
   ]
  },
  {
   "cell_type": "code",
   "execution_count": null,
   "metadata": {},
   "outputs": [],
   "source": []
  },
  {
   "cell_type": "code",
   "execution_count": null,
   "metadata": {},
   "outputs": [],
   "source": []
  },
  {
   "cell_type": "markdown",
   "metadata": {},
   "source": [
    "## Задание 7\n",
    "\n",
    "*Бонус:* игроки со временем учатся играть лучше (а иногда бывает и наоборот). А в нашей модели получается, что первые неудачные турниры новичка будут тянуть его рейтинг вниз всю жизнь — это нехорошо, рейтинг должен быть достаточно гибким и иметь возможность меняться даже у игроков, отыгравших сотни турниров. Давайте попробуем этого добиться:\n",
    "* если хватит вычислительных ресурсов, сначала сделайте baseline совсем без таких схем, обучив рейтинги на всех турнирах с повопросными результатами, а не только на турнирах 2019 года; улучшилось ли качество предсказаний на 2020?\n",
    "* одну схему со временем мы уже использовали: брали для обучения только последний год турниров; примерно так делают, например, в теннисной чемпионской гонке; у этой схемы есть свои преимущества, но есть и недостатки (например, достаточно мало играть год, чтобы полностью пропасть из рейтинга);\n",
    "* предложите варианты базовой модели или алгоритма её обучения, которые могли бы реализовать изменения рейтинга со временем; если получится, реализуйте их на практике, проверьте, улучшатся ли предсказания на 2020.\n"
   ]
  },
  {
   "cell_type": "code",
   "execution_count": null,
   "metadata": {},
   "outputs": [],
   "source": []
  },
  {
   "cell_type": "markdown",
   "metadata": {},
   "source": [
    "Попробуем обучить модель на всех играх до 2019 включительно и посмотреть на качество предсказания на играх 2020 года"
   ]
  },
  {
   "cell_type": "code",
   "execution_count": 9,
   "metadata": {},
   "outputs": [],
   "source": [
    "TRAIN_YEAR = 2019\n",
    "\n",
    "# id игр, которые подходят по дате для формирования тренировочного и тестового наборов\n",
    "ids_train = [\n",
    "    idx \n",
    "    for idx in tournaments.keys() \n",
    "    if pd.Timestamp(tournaments[idx]['dateStart']).date().year <= TRAIN_YEAR\n",
    "]\n",
    "\n",
    "train = get_data(ids_train)"
   ]
  },
  {
   "cell_type": "code",
   "execution_count": 10,
   "metadata": {},
   "outputs": [
    {
     "data": {
      "text/plain": [
       "1275"
      ]
     },
     "execution_count": 10,
     "metadata": {},
     "output_type": "execute_result"
    }
   ],
   "source": [
    "# оставим игры с 36 вопросами\n",
    "train36 = []\n",
    "for t in train:\n",
    "    if len(t[\"teams\"][0][\"mask\"]) == 36:\n",
    "        train36.append(t)\n",
    "        \n",
    "len(train36)"
   ]
  },
  {
   "cell_type": "code",
   "execution_count": 11,
   "metadata": {},
   "outputs": [
    {
     "name": "stdout",
     "output_type": "stream",
     "text": [
      "Обучающая выборка\n",
      "- Суммарное количество игроков во всех играх: 876537\n",
      "- Количество уникальных игроков: 107894\n",
      "- Количество уникальных типов игр: 5\n"
     ]
    }
   ],
   "source": [
    "all_players_train = []\n",
    "all_players_test = []\n",
    "\n",
    "for t in train36:\n",
    "    for team in t[\"teams\"]:\n",
    "        all_players_train.extend(team[\"members\"])\n",
    "        \n",
    "unique_players_train = sorted(list(set(all_players_train)))\n",
    "unique_tournament_type = set([t[\"tournament_type\"] for t in train36])\n",
    "\n",
    "\n",
    "print(\"Обучающая выборка\")\n",
    "print(f\"- Суммарное количество игроков во всех играх: {len(all_players_train)}\")\n",
    "print(f\"- Количество уникальных игроков: {len(unique_players_train)}\")\n",
    "print(f\"- Количество уникальных типов игр: {len(unique_tournament_type)}\")"
   ]
  },
  {
   "cell_type": "code",
   "execution_count": 12,
   "metadata": {},
   "outputs": [
    {
     "name": "stdout",
     "output_type": "stream",
     "text": [
      "Тестовая выборка. Сводка по игрокам, которые есть и в обучающей выборке.\n",
      "- Суммарное количество игроков во всех играх: 69190\n",
      "- Количество уникальных игроков: 20758\n"
     ]
    }
   ],
   "source": [
    "# Посчитаем количество игроков в тестовой выборке таких, что они есть и в обучающей. \n",
    "# Т.к. если до этого модель не видела игрока, вряд ли она что-то хорошее предскажет\n",
    "\n",
    "all_players_test = []\n",
    "\n",
    "for t in test36:\n",
    "    for team in t[\"teams\"]:\n",
    "        all_players_test.extend([member for member in team[\"members\"] if member in unique_players_train])\n",
    "        \n",
    "unique_players_test = sorted(list(set(all_players_test)))\n",
    "\n",
    "print(\"Тестовая выборка. Сводка по игрокам, которые есть и в обучающей выборке.\")\n",
    "print(f\"- Суммарное количество игроков во всех играх: {len(all_players_test)}\")\n",
    "print(f\"- Количество уникальных игроков: {len(unique_players_test)}\")"
   ]
  },
  {
   "cell_type": "code",
   "execution_count": 13,
   "metadata": {},
   "outputs": [],
   "source": [
    "id_player_to_order = {id_: i for i, id_ in enumerate(unique_players_train)}\n",
    "order_to_player_id = {i: id_ for i, id_ in enumerate(unique_players_train)}\n",
    "\n",
    "tournament_type_to_order = {id_: i for i, id_ in enumerate(unique_tournament_type)}\n",
    "order_to_tournament_type = {i: id_ for i, id_ in enumerate(unique_tournament_type)}"
   ]
  },
  {
   "cell_type": "code",
   "execution_count": 14,
   "metadata": {},
   "outputs": [
    {
     "name": "stderr",
     "output_type": "stream",
     "text": [
      "100%|██████████| 1275/1275 [09:13<00:00,  2.30it/s]\n",
      "100%|██████████| 100/100 [00:43<00:00,  2.30it/s]\n"
     ]
    }
   ],
   "source": [
    "X_train, y_train, X_test, y_test = split_data(train36, test36, feat_type=3)"
   ]
  },
  {
   "cell_type": "code",
   "execution_count": 24,
   "metadata": {},
   "outputs": [
    {
     "data": {
      "text/plain": [
       "LogisticRegression(C=1, class_weight=None, dual=False, fit_intercept=True,\n",
       "                   intercept_scaling=1, l1_ratio=None, max_iter=100,\n",
       "                   multi_class='auto', n_jobs=None, penalty='l2',\n",
       "                   random_state=None, solver='saga', tol=0.001, verbose=0,\n",
       "                   warm_start=False)"
      ]
     },
     "execution_count": 24,
     "metadata": {},
     "output_type": "execute_result"
    }
   ],
   "source": [
    "model5 = LogisticRegression(tol=1e-1, solver=\"saga\", C=1)\n",
    "model5.fit(X_train, y_train)"
   ]
  },
  {
   "cell_type": "code",
   "execution_count": 25,
   "metadata": {},
   "outputs": [
    {
     "name": "stdout",
     "output_type": "stream",
     "text": [
      "\n",
      "-> Ранговая корреляция Спирмена: 0.7421\n",
      "\n",
      "-> Ранговая корреляция Кендалла: 0.573\n",
      "\n"
     ]
    }
   ],
   "source": [
    "corr = get_corr(model5.coef_[0])\n",
    "\n",
    "print(f\"\\n-> Ранговая корреляция Спирмена: {round(corr['spearmanr'], 4)}\")\n",
    "print(f\"\\n-> Ранговая корреляция Кендалла: {round(corr['kendalltau'], 4)}\\n\")"
   ]
  },
  {
   "cell_type": "code",
   "execution_count": 27,
   "metadata": {},
   "outputs": [],
   "source": [
    "freq = collections.Counter(all_players_train)\n",
    "\n",
    "player_name = []\n",
    "player_tournaments_count = []\n",
    "player_rating = []\n",
    "\n",
    "for pl_id in freq:\n",
    "    player_name.append(f\"{players[pl_id]['surname']} {players[pl_id]['name']} {players[pl_id]['patronymic']}\")\n",
    "    player_tournaments_count.append(freq[pl_id])\n",
    "    player_rating.append(model5.coef_[0][id_player_to_order[pl_id]])\n",
    "    \n",
    "df_players = pd.DataFrame({\n",
    "    \"Игрок\": player_name, \n",
    "    \"Количество игр\": player_tournaments_count, \n",
    "    \"Число вопросов\": np.array(player_tournaments_count) * 36, \n",
    "    \"Условный рейтинг\": player_rating\n",
    "})\n",
    "\n",
    "df_players = df_players.sort_values(\n",
    "    by=\"Условный рейтинг\", ascending=False\n",
    ").reset_index(drop=True)"
   ]
  },
  {
   "cell_type": "markdown",
   "metadata": {},
   "source": [
    "Рейтинг игроков"
   ]
  },
  {
   "cell_type": "code",
   "execution_count": 28,
   "metadata": {},
   "outputs": [
    {
     "data": {
      "text/html": [
       "<div>\n",
       "<style scoped>\n",
       "    .dataframe tbody tr th:only-of-type {\n",
       "        vertical-align: middle;\n",
       "    }\n",
       "\n",
       "    .dataframe tbody tr th {\n",
       "        vertical-align: top;\n",
       "    }\n",
       "\n",
       "    .dataframe thead th {\n",
       "        text-align: right;\n",
       "    }\n",
       "</style>\n",
       "<table border=\"1\" class=\"dataframe\">\n",
       "  <thead>\n",
       "    <tr style=\"text-align: right;\">\n",
       "      <th></th>\n",
       "      <th>Игрок</th>\n",
       "      <th>Количество игр</th>\n",
       "      <th>Число вопросов</th>\n",
       "      <th>Условный рейтинг</th>\n",
       "    </tr>\n",
       "  </thead>\n",
       "  <tbody>\n",
       "    <tr>\n",
       "      <th>0</th>\n",
       "      <td>Руссо Максим Михайлович</td>\n",
       "      <td>93</td>\n",
       "      <td>3348</td>\n",
       "      <td>3.131068</td>\n",
       "    </tr>\n",
       "    <tr>\n",
       "      <th>1</th>\n",
       "      <td>Брутер Александра Владимировна</td>\n",
       "      <td>130</td>\n",
       "      <td>4680</td>\n",
       "      <td>2.997509</td>\n",
       "    </tr>\n",
       "    <tr>\n",
       "      <th>2</th>\n",
       "      <td>Прокофьева Ирина Сергеевна</td>\n",
       "      <td>44</td>\n",
       "      <td>1584</td>\n",
       "      <td>2.980714</td>\n",
       "    </tr>\n",
       "    <tr>\n",
       "      <th>3</th>\n",
       "      <td>Семушин Иван Николаевич</td>\n",
       "      <td>159</td>\n",
       "      <td>5724</td>\n",
       "      <td>2.974682</td>\n",
       "    </tr>\n",
       "    <tr>\n",
       "      <th>4</th>\n",
       "      <td>Тяпин Дмитрий Владимирович</td>\n",
       "      <td>2</td>\n",
       "      <td>72</td>\n",
       "      <td>2.966133</td>\n",
       "    </tr>\n",
       "    <tr>\n",
       "      <th>5</th>\n",
       "      <td>Гришов Юрий Александрович</td>\n",
       "      <td>3</td>\n",
       "      <td>108</td>\n",
       "      <td>2.905043</td>\n",
       "    </tr>\n",
       "    <tr>\n",
       "      <th>6</th>\n",
       "      <td>Савченков Михаил Владимирович</td>\n",
       "      <td>158</td>\n",
       "      <td>5688</td>\n",
       "      <td>2.888112</td>\n",
       "    </tr>\n",
       "    <tr>\n",
       "      <th>7</th>\n",
       "      <td>Сорожкин Артём Сергеевич</td>\n",
       "      <td>182</td>\n",
       "      <td>6552</td>\n",
       "      <td>2.852575</td>\n",
       "    </tr>\n",
       "    <tr>\n",
       "      <th>8</th>\n",
       "      <td>Новиков Илья Сергеевич</td>\n",
       "      <td>59</td>\n",
       "      <td>2124</td>\n",
       "      <td>2.844309</td>\n",
       "    </tr>\n",
       "    <tr>\n",
       "      <th>9</th>\n",
       "      <td>Мурашковский Алексей Юльевич</td>\n",
       "      <td>3</td>\n",
       "      <td>108</td>\n",
       "      <td>2.818172</td>\n",
       "    </tr>\n",
       "    <tr>\n",
       "      <th>10</th>\n",
       "      <td>Евстафьев Эдуард Николаевич</td>\n",
       "      <td>3</td>\n",
       "      <td>108</td>\n",
       "      <td>2.775806</td>\n",
       "    </tr>\n",
       "    <tr>\n",
       "      <th>11</th>\n",
       "      <td>Мереминский Станислав Григорьевич</td>\n",
       "      <td>98</td>\n",
       "      <td>3528</td>\n",
       "      <td>2.768832</td>\n",
       "    </tr>\n",
       "    <tr>\n",
       "      <th>12</th>\n",
       "      <td>Спешков Сергей Леонидович</td>\n",
       "      <td>111</td>\n",
       "      <td>3996</td>\n",
       "      <td>2.767274</td>\n",
       "    </tr>\n",
       "    <tr>\n",
       "      <th>13</th>\n",
       "      <td>Крапиль Николай Валерьевич</td>\n",
       "      <td>65</td>\n",
       "      <td>2340</td>\n",
       "      <td>2.757066</td>\n",
       "    </tr>\n",
       "    <tr>\n",
       "      <th>14</th>\n",
       "      <td>Левандовский Михаил Ильич</td>\n",
       "      <td>50</td>\n",
       "      <td>1800</td>\n",
       "      <td>2.750227</td>\n",
       "    </tr>\n",
       "    <tr>\n",
       "      <th>15</th>\n",
       "      <td>Губанов Антон Александрович</td>\n",
       "      <td>4</td>\n",
       "      <td>144</td>\n",
       "      <td>2.740891</td>\n",
       "    </tr>\n",
       "    <tr>\n",
       "      <th>16</th>\n",
       "      <td>Коробейников Александр Геннадьевич</td>\n",
       "      <td>52</td>\n",
       "      <td>1872</td>\n",
       "      <td>2.737519</td>\n",
       "    </tr>\n",
       "    <tr>\n",
       "      <th>17</th>\n",
       "      <td>Либер Александр Витальевич</td>\n",
       "      <td>179</td>\n",
       "      <td>6444</td>\n",
       "      <td>2.735653</td>\n",
       "    </tr>\n",
       "    <tr>\n",
       "      <th>18</th>\n",
       "      <td>Николенко Сергей Игоревич</td>\n",
       "      <td>80</td>\n",
       "      <td>2880</td>\n",
       "      <td>2.735545</td>\n",
       "    </tr>\n",
       "    <tr>\n",
       "      <th>19</th>\n",
       "      <td>Архангельская Юлия Сергеевна</td>\n",
       "      <td>63</td>\n",
       "      <td>2268</td>\n",
       "      <td>2.725271</td>\n",
       "    </tr>\n",
       "  </tbody>\n",
       "</table>\n",
       "</div>"
      ],
      "text/plain": [
       "                                 Игрок  Количество игр  Число вопросов  \\\n",
       "0              Руссо Максим Михайлович              93            3348   \n",
       "1       Брутер Александра Владимировна             130            4680   \n",
       "2           Прокофьева Ирина Сергеевна              44            1584   \n",
       "3              Семушин Иван Николаевич             159            5724   \n",
       "4           Тяпин Дмитрий Владимирович               2              72   \n",
       "5            Гришов Юрий Александрович               3             108   \n",
       "6        Савченков Михаил Владимирович             158            5688   \n",
       "7             Сорожкин Артём Сергеевич             182            6552   \n",
       "8               Новиков Илья Сергеевич              59            2124   \n",
       "9         Мурашковский Алексей Юльевич               3             108   \n",
       "10         Евстафьев Эдуард Николаевич               3             108   \n",
       "11   Мереминский Станислав Григорьевич              98            3528   \n",
       "12           Спешков Сергей Леонидович             111            3996   \n",
       "13          Крапиль Николай Валерьевич              65            2340   \n",
       "14           Левандовский Михаил Ильич              50            1800   \n",
       "15         Губанов Антон Александрович               4             144   \n",
       "16  Коробейников Александр Геннадьевич              52            1872   \n",
       "17          Либер Александр Витальевич             179            6444   \n",
       "18           Николенко Сергей Игоревич              80            2880   \n",
       "19        Архангельская Юлия Сергеевна              63            2268   \n",
       "\n",
       "    Условный рейтинг  \n",
       "0           3.131068  \n",
       "1           2.997509  \n",
       "2           2.980714  \n",
       "3           2.974682  \n",
       "4           2.966133  \n",
       "5           2.905043  \n",
       "6           2.888112  \n",
       "7           2.852575  \n",
       "8           2.844309  \n",
       "9           2.818172  \n",
       "10          2.775806  \n",
       "11          2.768832  \n",
       "12          2.767274  \n",
       "13          2.757066  \n",
       "14          2.750227  \n",
       "15          2.740891  \n",
       "16          2.737519  \n",
       "17          2.735653  \n",
       "18          2.735545  \n",
       "19          2.725271  "
      ]
     },
     "execution_count": 28,
     "metadata": {},
     "output_type": "execute_result"
    }
   ],
   "source": [
    "df_players.head(20)"
   ]
  },
  {
   "cell_type": "markdown",
   "metadata": {},
   "source": [
    "**Выводы по baseline-модели:**\n",
    "\n",
    "* Везде лидирует Руссо Михаил:)\n",
    "\n",
    "\n",
    "* Результаты предсказаний, если смотреть на ранговые метрики, не поменялись. Топ игроков плюс-минус такой же."
   ]
  },
  {
   "cell_type": "code",
   "execution_count": null,
   "metadata": {},
   "outputs": [],
   "source": []
  }
 ],
 "metadata": {
  "kernelspec": {
   "display_name": "Python 3",
   "language": "python",
   "name": "python3"
  },
  "language_info": {
   "codemirror_mode": {
    "name": "ipython",
    "version": 3
   },
   "file_extension": ".py",
   "mimetype": "text/x-python",
   "name": "python",
   "nbconvert_exporter": "python",
   "pygments_lexer": "ipython3",
   "version": "3.6.8"
  }
 },
 "nbformat": 4,
 "nbformat_minor": 5
}
